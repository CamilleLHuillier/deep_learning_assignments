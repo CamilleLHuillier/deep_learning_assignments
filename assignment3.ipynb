{
 "cells": [
  {
   "cell_type": "markdown",
   "metadata": {},
   "source": [
    "**You may need to install [OpenCV](https://pypi.python.org/pypi/opencv-python) and [scikit-video](http://www.scikit-video.org/stable/).**\n"
   ]
  },
  {
   "cell_type": "code",
   "execution_count": 1,
   "metadata": {},
   "outputs": [
    {
     "name": "stderr",
     "output_type": "stream",
     "text": [
      "Using TensorFlow backend.\n",
      "/Users/camille/.virtualenvs/supelec/lib/python3.7/importlib/_bootstrap.py:219: RuntimeWarning: compiletime version 3.6 of module 'tensorflow.python.framework.fast_tensor_util' does not match runtime version 3.7\n",
      "  return f(*args, **kwds)\n"
     ]
    }
   ],
   "source": [
    "import keras\n",
    "import numpy as np\n",
    "import io\n",
    "import base64\n",
    "from IPython.display import HTML\n",
    "import skvideo.io\n",
    "import cv2\n",
    "import json\n",
    "\n",
    "from keras.models import Sequential,model_from_json\n",
    "from keras.layers.core import Dense\n",
    "from keras.optimizers import sgd\n",
    "from keras.layers import Conv2D, MaxPooling2D, Activation, AveragePooling2D,Reshape,BatchNormalization"
   ]
  },
  {
   "cell_type": "markdown",
   "metadata": {},
   "source": [
    "# MiniProject #3: Deep Reinforcement Learning"
   ]
  },
  {
   "cell_type": "markdown",
   "metadata": {},
   "source": [
    "__Notations__: $E_p$ is the expectation under probability $p$. Please justify each of your answer and widely comment your code."
   ]
  },
  {
   "cell_type": "markdown",
   "metadata": {},
   "source": [
    "# Context"
   ]
  },
  {
   "cell_type": "markdown",
   "metadata": {},
   "source": [
    "In a reinforcement learning algorithm, we modelize each step $t$ as an action $a_t$ obtained from a state $s_t$, i.e. $\\{(a_{t},s_{t})_{t\\leq T}\\}$ having the Markov property. We consider a discount factor $\\gamma \\in [0,1]$ that ensures convergence. The goal is to find among all the policies $\\pi$, one that maximizes the expected reward:\n",
    "\n",
    "\\begin{equation*}\n",
    "R(\\pi)=\\sum_{t\\leq T}E_{p^{\\pi}}[\\gamma^t r(s_{t},a_{t})] \\> ,\n",
    "\\end{equation*}\n",
    "\n",
    "where: \n",
    "\\begin{equation*}p^{\\pi}(a_{0},a_{1},s_{1},...,a_{T},s_{T})=p(a_{0})\\prod_{t=1}^{T}\\pi(a_{t}|s_{t})p(s_{t+1}|s_{t},a_{t}) \\> .\n",
    "\\end{equation*}\n",
    "\n",
    "We note the $Q$-function:\n",
    "\n",
    "\\begin{equation*}Q^\\pi(s,a)=E_{p^{\\pi}}[\\sum_{t\\leq T}\\gamma^{t}r(s_{t},a_{t})|s_{0}=s,a_{0}=a] \\> .\n",
    "\\end{equation*}\n",
    "\n",
    "Thus, the optimal Q function is:\n",
    "\\begin{equation*}\n",
    "Q^*(s,a)=\\max_{\\pi}Q^\\pi(s,a) \\> .\n",
    "\\end{equation*}\n",
    "\n",
    "In this project, we will apply the deep reinforcement learning techniques to a simple game: an agent will have to learn from scratch a policy that will permit it maximizing a reward."
   ]
  },
  {
   "cell_type": "markdown",
   "metadata": {},
   "source": [
    "## The environment, the agent and the game"
   ]
  },
  {
   "cell_type": "markdown",
   "metadata": {},
   "source": [
    "### The environment"
   ]
  },
  {
   "cell_type": "markdown",
   "metadata": {},
   "source": [
    "```Environment``` is an abstract class that represents the states, rewards, and actions to obtain the new state."
   ]
  },
  {
   "cell_type": "code",
   "execution_count": 2,
   "metadata": {},
   "outputs": [],
   "source": [
    "class Environment(object):\n",
    "    def __init__(self):\n",
    "        pass\n",
    "\n",
    "    def act(self, act):\n",
    "        \"\"\"\n",
    "        One can act on the environment and obtain its reaction:\n",
    "        - the new state\n",
    "        - the reward of the new state\n",
    "        - should we continue the game?\n",
    "\n",
    "        :return: state, reward, game_over\n",
    "        \"\"\"\n",
    "        pass\n",
    "\n",
    "\n",
    "    def reset(self):\n",
    "        \"\"\"\n",
    "        Reinitialize the environment to a random state and returns\n",
    "        the original state\n",
    "\n",
    "        :return: state\n",
    "        \"\"\"\n",
    "        pass\n",
    "    \n",
    "    def draw(self):\n",
    "        \"\"\"\n",
    "        Visualize in the console or graphically the current state\n",
    "        \"\"\"\n",
    "        pass"
   ]
  },
  {
   "cell_type": "markdown",
   "metadata": {},
   "source": [
    "The method ```act``` allows to act on the environment at a given state $s_t$ (stored internally), via action $a_t$. The method will return the new state $s_{t+1}$, the reward $r(s_{t},a_{t})$ and determines if $t\\leq T$ (*game_over*).\n",
    "\n",
    "The method ```reset``` simply reinitializes the environment to a random state $s_0$.\n",
    "\n",
    "The method ```draw``` displays the current state $s_t$ (this is useful to check the behavior of the Agent).\n",
    "\n",
    "We modelize $s_t$ as a tensor, while $a_t$ is an integer."
   ]
  },
  {
   "cell_type": "markdown",
   "metadata": {},
   "source": [
    "### The Agent"
   ]
  },
  {
   "cell_type": "markdown",
   "metadata": {},
   "source": [
    "The goal of the ```Agent``` is to interact with the ```Environment``` by proposing actions $a_t$ obtained from a given state $s_t$ to attempt to maximize its __reward__ $r(s_t,a_t)$. We propose the following abstract class:"
   ]
  },
  {
   "cell_type": "code",
   "execution_count": 3,
   "metadata": {},
   "outputs": [],
   "source": [
    "class Agent(object):\n",
    "    def __init__(self, epsilon=0.1, n_action=4):\n",
    "        self.epsilon = epsilon\n",
    "        self.n_action = n_action\n",
    "    \n",
    "    def set_epsilon(self,e):\n",
    "        self.epsilon = e\n",
    "\n",
    "    def act(self,s,train=True):\n",
    "        \"\"\" This function should return the next action to do:\n",
    "        an integer between 0 and 4 (not included) with a random exploration of epsilon\"\"\"\n",
    "        if train:\n",
    "            if np.random.rand() <= self.epsilon:\n",
    "                a = np.random.randint(0, self.n_action, size=1)[0]\n",
    "            else:\n",
    "                a = self.learned_act(s)\n",
    "        else: # in some cases, this can improve the performance.. remove it if poor performances\n",
    "            a = self.learned_act(s)\n",
    "\n",
    "        return a\n",
    "\n",
    "    def learned_act(self,s):\n",
    "        \"\"\" Act via the policy of the agent, from a given state s\n",
    "        it proposes an action a\"\"\"\n",
    "        pass\n",
    "\n",
    "    def reinforce(self, s, n_s, a, r, game_over_):\n",
    "        \"\"\" This function is the core of the learning algorithm. \n",
    "        It takes as an input the current state s_, the next state n_s_\n",
    "        the action a_ used to move from s_ to n_s_ and the reward r_.\n",
    "        \n",
    "        Its goal is to learn a policy.\n",
    "        \"\"\"\n",
    "        pass\n",
    "\n",
    "    def save(self):\n",
    "        \"\"\" This function returns basic stats if applicable: the\n",
    "        loss and/or the model\"\"\"\n",
    "        pass\n",
    "\n",
    "    def load(self):\n",
    "        \"\"\" This function allows to restore a model\"\"\"\n",
    "        pass"
   ]
  },
  {
   "cell_type": "markdown",
   "metadata": {},
   "source": [
    "***\n",
    "__Question 1__:\n",
    "Explain the function act. Why is ```epsilon``` essential?"
   ]
  },
  {
   "cell_type": "markdown",
   "metadata": {},
   "source": [
    "At training time the agent can either:\n",
    "- act according to the policy he has learnt\n",
    "- act randomly. \n",
    "\n",
    "Trying new actions may help him improve its policy but will sometimes yield bad moves. That's why a compromise has to be made between exploration and exploitation. We implement here a simple solution to this dilemma named $\\epsilon$-greedy algorithm. At each step, with probability $\\epsilon$ the agent will act randomly instead of using the estimated $Q$-value. "
   ]
  },
  {
   "cell_type": "markdown",
   "metadata": {},
   "source": [
    "***\n",
    "### The Game"
   ]
  },
  {
   "cell_type": "markdown",
   "metadata": {},
   "source": [
    "The ```Agent``` and the ```Environment``` work in an interlaced way as in the following (take some time to understand this code as it is the core of the project)\n",
    "\n",
    "```python\n",
    "\n",
    "epoch = 300\n",
    "env = Environment()\n",
    "agent = Agent()\n",
    "\n",
    "\n",
    "# Number of won games\n",
    "score = 0\n",
    "loss = 0\n",
    "\n",
    "\n",
    "for e in range(epoch):\n",
    "    # At each epoch, we restart to a fresh game and get the initial state\n",
    "    state = env.reset()\n",
    "    # This assumes that the games will end\n",
    "    game_over = False\n",
    "\n",
    "    win = 0\n",
    "    lose = 0\n",
    "    \n",
    "    while not game_over:\n",
    "        # The agent performs an action\n",
    "        action = agent.act(state)\n",
    "\n",
    "        # Apply an action to the environment, get the next state, the reward\n",
    "        # and if the games end\n",
    "        prev_state = state\n",
    "        state, reward, game_over = env.act(action)\n",
    "\n",
    "        # Update the counters\n",
    "        if reward > 0:\n",
    "            win = win + reward\n",
    "        if reward < 0:\n",
    "            lose = lose -reward\n",
    "\n",
    "        # Apply the reinforcement strategy\n",
    "        loss = agent.reinforce(prev_state, state,  action, reward, game_over)\n",
    "\n",
    "    # Save as a mp4\n",
    "    if e % 10 == 0:\n",
    "        env.draw(e)\n",
    "\n",
    "    # Update stats\n",
    "    score += win-lose\n",
    "\n",
    "    print(\"Epoch {:03d}/{:03d} | Loss {:.4f} | Win/lose count {}/{} ({})\"\n",
    "          .format(e, epoch, loss, win, lose, win-lose))\n",
    "    agent.save()\n",
    "```"
   ]
  },
  {
   "cell_type": "markdown",
   "metadata": {},
   "source": [
    "# The game, *eat cheese*"
   ]
  },
  {
   "cell_type": "markdown",
   "metadata": {},
   "source": [
    "A rat runs on an island and tries to eat as much as possible. The island is subdivided into $N\\times N$ cells, in which there are cheese (+0.5) and poisonous cells (-1). The rat has a visibility of 2 cells (thus it can see $5^2$ cells). The rat is given a time $T$ to accumulate as much food as possible. It can perform 4 actions: going up, down, left, right. \n",
    "\n",
    "The goal is to code an agent to solve this task that will learn by trial and error. We propose the following environment:"
   ]
  },
  {
   "cell_type": "code",
   "execution_count": 4,
   "metadata": {},
   "outputs": [],
   "source": [
    "class Environment(object):\n",
    "    def __init__(self, grid_size=10, max_time=500, temperature=0.1):\n",
    "        grid_size = grid_size+4\n",
    "        self.grid_size = grid_size\n",
    "        self.max_time = max_time\n",
    "        self.temperature = temperature\n",
    "\n",
    "        #board on which one plays\n",
    "        self.board = np.zeros((grid_size,grid_size))\n",
    "        self.position = np.zeros((grid_size,grid_size))\n",
    "\n",
    "        # coordinate of the cat\n",
    "        self.x = 0\n",
    "        self.y = 1\n",
    "\n",
    "        # self time\n",
    "        self.t = 0\n",
    "\n",
    "        self.scale=16\n",
    "\n",
    "        self.to_draw = np.zeros((max_time+2, grid_size*self.scale, grid_size*self.scale, 3))\n",
    "\n",
    "\n",
    "    def draw(self,e):\n",
    "        skvideo.io.vwrite(str(e) + '.mp4', self.to_draw)\n",
    "\n",
    "    def get_frame(self,t):\n",
    "        b = np.zeros((self.grid_size,self.grid_size,3))+128\n",
    "        b[self.board>0,0] = 256\n",
    "        b[self.board < 0, 2] = 256\n",
    "        b[self.x,self.y,:]=256\n",
    "        b[-2:,:,:]=0\n",
    "        b[:,-2:,:]=0\n",
    "        b[:2,:,:]=0\n",
    "        b[:,:2,:]=0\n",
    "        \n",
    "        b =  cv2.resize(b, None, fx=self.scale, fy=self.scale, interpolation=cv2.INTER_NEAREST)\n",
    "\n",
    "        self.to_draw[t,:,:,:]=b\n",
    "\n",
    "\n",
    "    def act(self, action):\n",
    "        \"\"\"This function returns the new state, reward and decides if the\n",
    "        game ends.\"\"\"\n",
    "\n",
    "        self.get_frame(int(self.t))\n",
    "\n",
    "        self.position = np.zeros((self.grid_size, self.grid_size))\n",
    "\n",
    "        self.position[0:2,:]= -1\n",
    "        self.position[:,0:2] = -1\n",
    "        self.position[-2:, :] = -1\n",
    "        self.position[-2:, :] = -1\n",
    "\n",
    "        self.position[self.x, self.y] = 1\n",
    "        if action == 0:\n",
    "            if self.x == self.grid_size-3:\n",
    "                self.x = self.x-1\n",
    "            else:\n",
    "                self.x = self.x + 1\n",
    "        elif action == 1:\n",
    "            if self.x == 2:\n",
    "                self.x = self.x+1\n",
    "            else:\n",
    "                self.x = self.x-1\n",
    "        elif action == 2:\n",
    "            if self.y == self.grid_size - 3:\n",
    "                self.y = self.y - 1\n",
    "            else:\n",
    "                self.y = self.y + 1\n",
    "        elif action == 3:\n",
    "            if self.y == 2:\n",
    "                self.y = self.y + 1\n",
    "            else:\n",
    "                self.y = self.y - 1\n",
    "        else:\n",
    "            RuntimeError('Error: action not recognized')\n",
    "\n",
    "        self.t = self.t + 1\n",
    "        reward = self.board[self.x, self.y]\n",
    "        self.board[self.x, self.y] = 0\n",
    "        game_over = self.t > self.max_time\n",
    "        state = np.concatenate((self.board.reshape(self.grid_size, self.grid_size,1),\n",
    "                        self.position.reshape(self.grid_size, self.grid_size,1)),axis=2)\n",
    "        state = state[self.x-2:self.x+3,self.y-2:self.y+3,:]\n",
    "\n",
    "        return state, reward, game_over\n",
    "\n",
    "    def reset(self):\n",
    "        \"\"\"This function resets the game and returns the initial state\"\"\"\n",
    "\n",
    "        self.x = np.random.randint(3, self.grid_size-3, size=1)[0]\n",
    "        self.y = np.random.randint(3, self.grid_size-3, size=1)[0]\n",
    "\n",
    "\n",
    "        bonus = 0.5*np.random.binomial(1,self.temperature,size=self.grid_size**2)\n",
    "        bonus = bonus.reshape(self.grid_size,self.grid_size)\n",
    "\n",
    "        malus = -1.0*np.random.binomial(1,self.temperature,size=self.grid_size**2)\n",
    "        malus = malus.reshape(self.grid_size, self.grid_size)\n",
    "\n",
    "        self.to_draw = np.zeros((self.max_time+2, self.grid_size*self.scale, self.grid_size*self.scale, 3))\n",
    "\n",
    "\n",
    "        malus[bonus>0]=0\n",
    "\n",
    "        self.board = bonus + malus\n",
    "\n",
    "        self.position = np.zeros((self.grid_size, self.grid_size))\n",
    "        self.position[0:2,:]= -1\n",
    "        self.position[:,0:2] = -1\n",
    "        self.position[-2:, :] = -1\n",
    "        self.position[-2:, :] = -1\n",
    "        self.board[self.x,self.y] = 0\n",
    "        self.t = 0\n",
    "\n",
    "        state = np.concatenate((\n",
    "                               self.board.reshape(self.grid_size, self.grid_size,1),\n",
    "                        self.position.reshape(self.grid_size, self.grid_size,1)),axis=2)\n",
    "\n",
    "        state = state[self.x - 2:self.x + 3, self.y - 2:self.y + 3, :]\n",
    "        return state"
   ]
  },
  {
   "cell_type": "markdown",
   "metadata": {},
   "source": [
    "The following elements are important because they correspond to the hyper parameters for this project:"
   ]
  },
  {
   "cell_type": "code",
   "execution_count": 17,
   "metadata": {},
   "outputs": [],
   "source": [
    "# parameters\n",
    "size = 13\n",
    "T=200\n",
    "temperature=0.3\n",
    "epochs_train=50 # set small when debugging\n",
    "epochs_test=10 # set small when debugging\n",
    "# display videos\n",
    "def display_videos(name):\n",
    "    video = io.open(name, 'r+b').read()\n",
    "    encoded = base64.b64encode(video)\n",
    "    return '''<video alt=\"test\" controls>\n",
    "                <source src=\"data:video/mp4;base64,{0}\" type=\"video/mp4\" />\n",
    "             </video>'''.format(encoded.decode('ascii'))"
   ]
  },
  {
   "cell_type": "markdown",
   "metadata": {},
   "source": [
    "__Question 2__ Explain the use of the arrays ```position``` and ```board```."
   ]
  },
  {
   "cell_type": "markdown",
   "metadata": {},
   "source": [
    "The array **board** indicates if a cell (i, j) contains:\n",
    "- nothing (value 0)\n",
    "- a piece of cheese (value 0.5)\n",
    "- poison (value -1)\n",
    "\n",
    "The array **position** indicates:\n",
    "- where the rat is located (value 1)\n",
    "- forbidden positions (value -1)\n",
    "- admissible positions (value 0)"
   ]
  },
  {
   "cell_type": "markdown",
   "metadata": {},
   "source": [
    "## Random Agent"
   ]
  },
  {
   "cell_type": "markdown",
   "metadata": {},
   "source": [
    "***\n",
    "__Question 3__ Implement a random Agent (only ```learned_act``` needs to be implemented):"
   ]
  },
  {
   "cell_type": "code",
   "execution_count": 6,
   "metadata": {},
   "outputs": [],
   "source": [
    "class RandomAgent(Agent):\n",
    "    def __init__(self):\n",
    "        super(RandomAgent, self).__init__()\n",
    "        pass\n",
    "\n",
    "    def learned_act(self, s):\n",
    "        return np.random.randint(0, self.n_action, size=1)[0]"
   ]
  },
  {
   "cell_type": "markdown",
   "metadata": {},
   "source": [
    "***\n",
    "***\n",
    "__Question 4__ Visualize the game moves. You need to fill in the following function for the evaluation:"
   ]
  },
  {
   "cell_type": "code",
   "execution_count": 7,
   "metadata": {},
   "outputs": [],
   "source": [
    "def test(agent,env,epochs,prefix=''):\n",
    "    # Number of won games\n",
    "    score = 0\n",
    "        \n",
    "    for e in range(epochs):\n",
    "        state = env.reset()\n",
    "        game_over = False\n",
    "        win = 0\n",
    "        lose = 0\n",
    "\n",
    "        while not game_over:\n",
    "            # The agent performs an action\n",
    "            action = agent.act(state)\n",
    "\n",
    "            # Apply an action to the environment, get the next state, the reward\n",
    "            # and if the games end\n",
    "            prev_state = state\n",
    "            state, reward, game_over = env.act(action)\n",
    "\n",
    "            # Update the counters\n",
    "            if reward > 0:\n",
    "                win = win + reward\n",
    "            if reward < 0:\n",
    "                lose = lose -reward\n",
    "\n",
    "            # Apply the reinforcement strategy\n",
    "            loss = agent.reinforce(prev_state, state,  action, reward, game_over)\n",
    "        \n",
    "        # Save as a mp4\n",
    "        env.draw(prefix+str(e))\n",
    "\n",
    "        # Update stats\n",
    "        score = score + win-lose\n",
    "\n",
    "        print(\"Win/lose count {}/{}. Average score ({})\"\n",
    "              .format(win, lose, score/(1+e)))\n",
    "    print('Final score: '+str(score/epochs))"
   ]
  },
  {
   "cell_type": "code",
   "execution_count": 8,
   "metadata": {},
   "outputs": [
    {
     "name": "stdout",
     "output_type": "stream",
     "text": [
      "Win/lose count 10.0/22.0. Average score (-12.0)\n",
      "Win/lose count 10.5/14.0. Average score (-7.75)\n",
      "Win/lose count 5.0/9.0. Average score (-6.5)\n",
      "Win/lose count 13.0/12.0. Average score (-4.625)\n",
      "Win/lose count 13.5/19.0. Average score (-4.8)\n",
      "Win/lose count 4.0/20.0. Average score (-6.666666666666667)\n",
      "Win/lose count 8.5/12.0. Average score (-6.214285714285714)\n",
      "Win/lose count 7.5/9.0. Average score (-5.625)\n",
      "Win/lose count 13.0/19.0. Average score (-5.666666666666667)\n",
      "Win/lose count 13.0/12.0. Average score (-5.0)\n",
      "Final score: -5.0\n"
     ]
    },
    {
     "data": {
      "text/html": [
       "<video alt=\"test\" controls>\n",
       "                <source src=\"data:video/mp4;base64,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\" type=\"video/mp4\" />\n",
       "             </video>"
      ],
      "text/plain": [
       "<IPython.core.display.HTML object>"
      ]
     },
     "execution_count": 8,
     "metadata": {},
     "output_type": "execute_result"
    }
   ],
   "source": [
    "# Initialize the game\n",
    "env = Environment(grid_size=size, max_time=T,temperature=temperature)\n",
    "\n",
    "# Initialize the agent!\n",
    "agent = RandomAgent()\n",
    "\n",
    "test(agent,env,epochs_test,prefix='random')\n",
    "HTML(display_videos('random0.mp4'))"
   ]
  },
  {
   "cell_type": "markdown",
   "metadata": {},
   "source": [
    "***\n",
    "## DQN"
   ]
  },
  {
   "cell_type": "markdown",
   "metadata": {},
   "source": [
    "Let us assume here that $T=\\infty$.\n",
    "\n",
    "***\n",
    "__Question 5__ Let $\\pi$ be a policy, show that:\n",
    "\n",
    "\\begin{equation*}\n",
    "Q^{\\pi}(s,a)=E_{(s',a')\\sim p(.|s,a)}[r(s,a)+\\gamma Q^{\\pi}(s',a')]\n",
    "\\end{equation*}\n",
    "\n",
    "Then, show that for the optimal policy $\\pi^*$ (we assume its existence), the following holds: \n",
    "\n",
    "\\begin{equation*}\n",
    "Q^{*}(s,a)=E_{s'\\sim \\pi^*(.|s,a)}[r(s,a)+\\gamma\\max_{a'}Q^{*}(s',a')].\n",
    "\\end{equation*}\n",
    "Finally, deduce that a plausible objective is:\n",
    "\n",
    "\\begin{equation*}\n",
    "\\mathcal{L}(\\theta)=E_{s' \\sim \\pi^*(.|s,a)}\\Vert r+\\gamma\\max_{a'}Q(s',a',\\theta)-Q(s,a,\\theta)\\Vert^{2}.\n",
    "\\end{equation*}\n",
    "\n",
    "\n"
   ]
  },
  {
   "cell_type": "markdown",
   "metadata": {},
   "source": [
    "***\n",
    "***\n",
    "\n",
    "**5. 1** First,\n",
    "\\begin{equation*}\n",
    "\\begin{aligned}\n",
    "Q^\\pi(s,a) &  = E_{p^{\\pi}}[\\sum_{t\\leq T}\\gamma^{t}r(s_{t},a_{t})|s_{0}=s,a_{0}=a] \\\\\n",
    "            & = E_{p^{\\pi}}[r(s, a) + \\sum_{1 \\leq t\\leq T}\\gamma^{t}r(s_{t},a_{t})|s_{0}=s,a_{0}=a] \\\\\n",
    "            & = E_{p^{\\pi}}[r(s, a) + \\gamma  E_{p^{\\pi}}[ \\sum_{0 \\leq t\\leq T-1}\\gamma^{t} r(s_{t+1},a_{t+1})| s_1 = s', a_1 = a'] \\ |s_{0}=s,a_{0}=a]\n",
    "\\end{aligned}\n",
    "\\end{equation*}\n",
    "Besides \n",
    "\\begin{equation*}\n",
    "\\begin{aligned}\n",
    "            E_{p^{\\pi}}[ \\sum_{0 \\leq t\\leq T-1}\\gamma^{t} r(s_{t+1},a_{t+1})| s_1 = s', a_1 = a'] & = E_{p^{\\pi}}[ \\sum_{0 \\leq t\\leq T-1}\\gamma^{t} r(s_{t},a_{t})| s_0 = s', a_0 = a'] \\\\\n",
    "            & \\sim Q^\\pi(s', a')\n",
    "\\end{aligned}\n",
    "\\end{equation*}       \n",
    "Change of index doesn't matter because $p^{\\pi}$ is stationnary. Moreover we don't strictly have an equality because we are considering $T-1$ steps instead of $T$. It doesn't affect the result much because the last step receives the highest discout. Hence we can write:\n",
    "            \n",
    "\\begin{equation*}\n",
    "\\begin{aligned} \n",
    "Q^\\pi(s,a) &  = E_{p^{\\pi}}[r(s, a) + \\gamma Q^\\pi(s_1, a_1) \\ |s_{0}=s,a_{0}=a]  \\\\\n",
    "            &  = E_{(s',a')\\sim p(.|s,a)}[r(s,a)+\\gamma Q^{\\pi}(s',a')] \\\\\n",
    "\\end{aligned}\n",
    "\\end{equation*}\n",
    "\n",
    "\n",
    "**5. 2** Then by using result from 5.1 and keeping in mind that the optimal policy is greedy we get:\n",
    "\n",
    "\\begin{equation*}\n",
    "\\begin{aligned}\n",
    " Q^*(s,a) & = \\max_{\\pi}Q^\\pi(s,a) \\\\\n",
    "          & = Q^{\\pi^*}(s,a) \\\\\n",
    "          & = E_{s'\\sim p(.|s, a)}[r(s,a)+\\gamma Q^{\\pi^*}(s',\\pi^*(s'))] \\\\\n",
    "          & = E_{s'\\sim p(.|s, a)}[r(s,a)+\\gamma \\max_{a'} Q^*(s', a')]\n",
    "\\end{aligned}\n",
    "\\end{equation*}\n",
    "\n",
    "\n",
    "**5. 3** The equation found in 5.2 suggests the following sequence:\n",
    "\n",
    "\\begin{equation*}\n",
    "\\begin{aligned} \n",
    "    Q(s,a, \\theta_{t+1}) \\leftarrow E_{s'\\sim p(.|s, a)}[r(s,a)+\\gamma \\max_{a'} Q(s',a', \\theta_t)]\n",
    "\\end{aligned}\n",
    "\\end{equation*}\n",
    "\n",
    "Besides, thanks to theoretical results on the optimal Bellman operator we know that this sequence converges to $Q^*(s,a)$. From Euler criterion we know that $| Q(s,a, \\theta_{t+1})- Q(s, a, \\theta_t) |^2$ should converge to $0$. That's why we will minimize over $\\theta_{t+1}$ the following objective function:\n",
    "\n",
    "\\begin{equation*}\n",
    "\\begin{aligned} \n",
    "    \\mathcal{L}(\\theta)=E_{s, a} [| Q(s,a, \\theta_{t+1})- Q(s, a, \\theta_t) |^2]\n",
    "\\end{aligned}\n",
    "\\end{equation*}\n",
    "***\n",
    "***"
   ]
  },
  {
   "cell_type": "markdown",
   "metadata": {},
   "source": [
    "***\n",
    "The DQN-learning algorithm relies on these derivations to train the parameters $\\theta$ of a Deep Neural Network:\n",
    "\n",
    "1. At the state $s_t$, select the action $a_t$ with best reward using $Q_t$ and store the results;\n",
    "\n",
    "2. Obtain the new state $s_{t+1}$ from the environment $p$;\n",
    "\n",
    "3. Store $(s_t,a_t,s_{t+1})$;\n",
    "\n",
    "4. Obtain $Q_{t+1}$ by minimizing  $\\mathcal{L}$ from a recovered batch from the previously stored results.\n",
    "\n",
    "***\n",
    "__Question 6__ Implement the class ```Memory``` that stores moves (in a replay buffer) via ```remember``` and provides a ```random_access``` to these. Specify a maximum memory size to avoid side effects. You can for example use a ```list()``` and set by default ```max_memory=100```."
   ]
  },
  {
   "cell_type": "code",
   "execution_count": 9,
   "metadata": {},
   "outputs": [],
   "source": [
    "class Memory(object):\n",
    "    def __init__(self, max_memory=100):\n",
    "        self.max_memory = max_memory\n",
    "        self.memory = list()\n",
    "\n",
    "    def remember(self, m):\n",
    "        self.memory.append(m)\n",
    "        self.memory = self.memory[-self.max_memory:]\n",
    "\n",
    "    def random_access(self):\n",
    "        i = np.random.randint(0, len(self.memory))\n",
    "        return self.memory[i]"
   ]
  },
  {
   "cell_type": "markdown",
   "metadata": {},
   "source": [
    "***\n",
    "The pipeline we will use for training is given below:"
   ]
  },
  {
   "cell_type": "code",
   "execution_count": 10,
   "metadata": {},
   "outputs": [],
   "source": [
    "def train(agent,env,epoch,prefix=''):\n",
    "    # Number of won games\n",
    "    score = 0\n",
    "    loss = 0\n",
    "\n",
    "    for e in range(epoch):\n",
    "        # At each epoch, we restart to a fresh game and get the initial state\n",
    "        state = env.reset()\n",
    "        # This assumes that the games will terminate\n",
    "        game_over = False\n",
    "\n",
    "        win = 0\n",
    "        lose = 0\n",
    "\n",
    "        while not game_over:\n",
    "            # The agent performs an action\n",
    "            action = agent.act(state)\n",
    "\n",
    "            # Apply an action to the environment, get the next state, the reward\n",
    "            # and if the games end\n",
    "            prev_state = state\n",
    "            state, reward, game_over = env.act(action)\n",
    "\n",
    "            # Update the counters\n",
    "            if reward > 0:\n",
    "                win = win + reward\n",
    "            if reward < 0:\n",
    "                lose = lose -reward\n",
    "\n",
    "            # Apply the reinforcement strategy\n",
    "            loss = agent.reinforce(prev_state, state,  action, reward, game_over)\n",
    "\n",
    "        # Save as a mp4\n",
    "        if e % 10 == 0:\n",
    "            env.draw(prefix+str(e))\n",
    "\n",
    "        # Update stats\n",
    "        score += win-lose\n",
    "\n",
    "        print(\"Epoch {:03d}/{:03d} | Loss {:.4f} | Win/lose count {}/{} ({})\"\n",
    "              .format(e, epoch, loss, win, lose, win-lose))\n",
    "        agent.save(name_weights=prefix+'model.h5',name_model=prefix+'model.json')"
   ]
  },
  {
   "cell_type": "markdown",
   "metadata": {},
   "source": [
    "***\n",
    "__Question 7__ Implement the DQN training algorithm using a cascade of fully connected layers. You can use different learning rate, batch size or memory size parameters. In particular, the loss might oscillate while the player will start to win the games. You have to find a good criterium."
   ]
  },
  {
   "cell_type": "code",
   "execution_count": 26,
   "metadata": {},
   "outputs": [],
   "source": [
    "class DQN(Agent):\n",
    "    def __init__(self, grid_size,  epsilon = 0.1, memory_size=100, batch_size = 16, n_state=2):\n",
    "        super(DQN, self).__init__(epsilon = epsilon)\n",
    "\n",
    "        # Discount for Q learning\n",
    "        self.discount = 0.99\n",
    "        \n",
    "        self.grid_size = grid_size\n",
    "        \n",
    "        # number of state\n",
    "        self.n_state = n_state\n",
    "\n",
    "        # Memory\n",
    "        self.memory = Memory(memory_size)\n",
    "        \n",
    "        # Batch size when learning\n",
    "        self.batch_size = batch_size\n",
    "\n",
    "    def learned_act(self, s):\n",
    "        prediction = self.model.predict(s.reshape([1, *s.shape]))[0]\n",
    "        return np.argmax(prediction)\n",
    "\n",
    "    def reinforce(self, s_, n_s_, a_, r_, game_over_):\n",
    "        # Two steps: first memorize the states, second learn from the pool\n",
    "\n",
    "        self.memory.remember([s_, n_s_, a_, r_, game_over_])\n",
    "        \n",
    "        input_states = np.zeros((self.batch_size, 5, 5, self.n_state))\n",
    "        target_q = np.zeros((self.batch_size, 4))\n",
    "        \n",
    "        for i in range(self.batch_size):\n",
    "            s_, n_s_, a_, r_, game_over_ = self.memory.random_access()\n",
    "            \n",
    "            input_states[i] = s_\n",
    "            prediction = self.model.predict(n_s_.reshape([1, *n_s_.shape]))[0]\n",
    "            target_q[i] = prediction\n",
    "            \n",
    "            if game_over_:\n",
    "                target_q[i, a_] = r_\n",
    "            else:\n",
    "                target_q[i, a_] = r_ + self.discount*np.max(prediction)\n",
    "\n",
    "        # HINT: Clip the target to avoid exploiding gradients.. -- clipping is a bit tighter\n",
    "        target_q = np.clip(target_q, -3, 3)\n",
    "\n",
    "        l = self.model.train_on_batch(input_states, target_q)\n",
    "        \n",
    "        return l\n",
    "\n",
    "    def save(self,name_weights='model.h5',name_model='model.json'):\n",
    "        self.model.save_weights(name_weights, overwrite=True)\n",
    "        with open(name_model, \"w\") as outfile:\n",
    "            json.dump(self.model.to_json(), outfile)\n",
    "            \n",
    "    def load(self,name_weights='model.h5',name_model='model.json'):\n",
    "        with open(name_model, \"r\") as jfile:\n",
    "            model = model_from_json(json.load(jfile))\n",
    "        model.load_weights(name_weights)\n",
    "        model.compile(\"sgd\", \"mse\")\n",
    "        self.model = model\n",
    "\n",
    "            \n",
    "class DQN_FC(DQN):\n",
    "    def __init__(self, *args, lr=0.1,**kwargs):\n",
    "        super().__init__( *args,**kwargs)\n",
    "        \n",
    "        # NN Model\n",
    "        model = keras.models.Sequential([\n",
    "            keras.layers.Dense(25, input_shape=(5, 5, self.n_state,), activation='relu'),\n",
    "            keras.layers.Flatten(),\n",
    "            keras.layers.Dense(50, activation='relu'),\n",
    "#             keras.layers.Dense(25, activation='relu'),\n",
    "            keras.layers.Dense(4)\n",
    "        ])\n",
    "        model.compile(sgd(lr=lr, decay=1e-4, momentum=0.0), \"mse\")\n",
    "        self.model = model\n",
    "        "
   ]
  },
  {
   "cell_type": "code",
   "execution_count": 27,
   "metadata": {
    "scrolled": true
   },
   "outputs": [
    {
     "name": "stdout",
     "output_type": "stream",
     "text": [
      "Epoch 000/050 | Loss 0.0029 | Win/lose count 2.0/3.0 (-1.0)\n",
      "Epoch 001/050 | Loss 0.0118 | Win/lose count 2.0/7.0 (-5.0)\n",
      "Epoch 002/050 | Loss 0.0071 | Win/lose count 6.5/7.0 (-0.5)\n",
      "Epoch 003/050 | Loss 0.0935 | Win/lose count 7.0/9.0 (-2.0)\n",
      "Epoch 004/050 | Loss 0.0058 | Win/lose count 6.0/6.0 (0.0)\n",
      "Epoch 005/050 | Loss 0.0104 | Win/lose count 4.5/4.0 (0.5)\n",
      "Epoch 006/050 | Loss 0.0645 | Win/lose count 11.0/7.0 (4.0)\n",
      "Epoch 007/050 | Loss 0.0087 | Win/lose count 7.0/3.0 (4.0)\n",
      "Epoch 008/050 | Loss 0.0680 | Win/lose count 5.0/4.0 (1.0)\n",
      "Epoch 009/050 | Loss 0.0092 | Win/lose count 6.5/6.0 (0.5)\n",
      "Epoch 010/050 | Loss 0.0109 | Win/lose count 10.0/8.0 (2.0)\n",
      "Epoch 011/050 | Loss 0.0599 | Win/lose count 8.0/5.0 (3.0)\n",
      "Epoch 012/050 | Loss 0.0216 | Win/lose count 7.0/3.0 (4.0)\n",
      "Epoch 013/050 | Loss 0.0148 | Win/lose count 6.0/2.0 (4.0)\n",
      "Epoch 014/050 | Loss 0.0217 | Win/lose count 3.5/3.0 (0.5)\n",
      "Epoch 015/050 | Loss 0.0039 | Win/lose count 19.5/5.0 (14.5)\n",
      "Epoch 016/050 | Loss 0.0090 | Win/lose count 3.0/3.0 (0.0)\n",
      "Epoch 017/050 | Loss 0.0076 | Win/lose count 7.5/3.0 (4.5)\n",
      "Epoch 018/050 | Loss 0.0039 | Win/lose count 13.0/5.0 (8.0)\n",
      "Epoch 019/050 | Loss 0.0057 | Win/lose count 8.0/11.0 (-3.0)\n",
      "Epoch 020/050 | Loss 0.0216 | Win/lose count 7.5/4.0 (3.5)\n",
      "Epoch 021/050 | Loss 0.0650 | Win/lose count 11.0/2.0 (9.0)\n",
      "Epoch 022/050 | Loss 0.0100 | Win/lose count 14.0/5.0 (9.0)\n",
      "Epoch 023/050 | Loss 0.0026 | Win/lose count 8.5/6.0 (2.5)\n",
      "Epoch 024/050 | Loss 0.0193 | Win/lose count 5.0/0 (5.0)\n",
      "Epoch 025/050 | Loss 0.0135 | Win/lose count 16.0/5.0 (11.0)\n",
      "Epoch 026/050 | Loss 0.0027 | Win/lose count 10.0/5.0 (5.0)\n",
      "Epoch 027/050 | Loss 0.0144 | Win/lose count 14.0/5.0 (9.0)\n",
      "Epoch 028/050 | Loss 0.0038 | Win/lose count 10.0/6.0 (4.0)\n",
      "Epoch 029/050 | Loss 0.0160 | Win/lose count 10.5/5.0 (5.5)\n",
      "Epoch 030/050 | Loss 0.0089 | Win/lose count 7.0/5.0 (2.0)\n",
      "Epoch 031/050 | Loss 0.0102 | Win/lose count 15.5/2.0 (13.5)\n",
      "Epoch 032/050 | Loss 0.0038 | Win/lose count 10.5/3.0 (7.5)\n",
      "Epoch 033/050 | Loss 0.0032 | Win/lose count 19.5/3.0 (16.5)\n",
      "Epoch 034/050 | Loss 0.0145 | Win/lose count 10.5/3.0 (7.5)\n",
      "Epoch 035/050 | Loss 0.0089 | Win/lose count 13.5/5.0 (8.5)\n",
      "Epoch 036/050 | Loss 0.0022 | Win/lose count 13.5/5.0 (8.5)\n",
      "Epoch 037/050 | Loss 0.0086 | Win/lose count 10.0/3.0 (7.0)\n",
      "Epoch 038/050 | Loss 0.0027 | Win/lose count 4.0/5.0 (-1.0)\n",
      "Epoch 039/050 | Loss 0.0047 | Win/lose count 10.5/4.0 (6.5)\n",
      "Epoch 040/050 | Loss 0.0070 | Win/lose count 12.5/1.0 (11.5)\n",
      "Epoch 041/050 | Loss 0.0093 | Win/lose count 6.0/5.0 (1.0)\n",
      "Epoch 042/050 | Loss 0.0073 | Win/lose count 5.5/2.0 (3.5)\n",
      "Epoch 043/050 | Loss 0.0222 | Win/lose count 12.0/2.0 (10.0)\n",
      "Epoch 044/050 | Loss 0.0614 | Win/lose count 14.5/6.0 (8.5)\n",
      "Epoch 045/050 | Loss 0.0065 | Win/lose count 8.0/6.0 (2.0)\n",
      "Epoch 046/050 | Loss 0.0093 | Win/lose count 8.0/9.0 (-1.0)\n",
      "Epoch 047/050 | Loss 0.0104 | Win/lose count 4.0/1.0 (3.0)\n",
      "Epoch 048/050 | Loss 0.0081 | Win/lose count 18.5/5.0 (13.5)\n",
      "Epoch 049/050 | Loss 0.0051 | Win/lose count 14.0/5.0 (9.0)\n"
     ]
    },
    {
     "data": {
      "text/html": [
       "<video alt=\"test\" controls>\n",
       "                <source src=\"data:video/mp4;base64,AAAAIGZ0eXBpc29tAAACAGlzb21pc28yYXZjMW1wNDEAAAAIZnJlZQAAGOJtZGF0AAACrQYF//+p3EXpvebZSLeWLNgg2SPu73gyNjQgLSBjb3JlIDE1MiByMjg1NCBlOWE1OTAzIC0gSC4yNjQvTVBFRy00IEFWQyBjb2RlYyAtIENvcHlsZWZ0IDIwMDMtMjAxNyAtIGh0dHA6Ly93d3cudmlkZW9sYW4ub3JnL3gyNjQuaHRtbCAtIG9wdGlvbnM6IGNhYmFjPTEgcmVmPTMgZGVibG9jaz0xOjA6MCBhbmFseXNlPTB4MToweDExMSBtZT1oZXggc3VibWU9NyBwc3k9MSBwc3lfcmQ9MS4wMDowLjAwIG1peGVkX3JlZj0xIG1lX3JhbmdlPTE2IGNocm9tYV9tZT0xIHRyZWxsaXM9MSA4eDhkY3Q9MCBjcW09MCBkZWFkem9uZT0yMSwxMSBmYXN0X3Bza2lwPTEgY2hyb21hX3FwX29mZnNldD00IHRocmVhZHM9OCBsb29rYWhlYWRfdGhyZWFkcz0xIHNsaWNlZF90aHJlYWRzPTAgbnI9MCBkZWNpbWF0ZT0xIGludGVybGFjZWQ9MCBibHVyYXlfY29tcGF0PTAgY29uc3RyYWluZWRfaW50cmE9MCBiZnJhbWVzPTMgYl9weXJhbWlkPTIgYl9hZGFwdD0xIGJfYmlhcz0wIGRpcmVjdD0xIHdlaWdodGI9MSBvcGVuX2dvcD0wIHdlaWdodHA9MiBrZXlpbnQ9MjUwIGtleWludF9taW49MjUgc2NlbmVjdXQ9NDAgaW50cmFfcmVmcmVzaD0wIHJjX2xvb2thaGVhZD00MCByYz1jcmYgbWJ0cmVlPTEgY3JmPTIzLjAgcWNvbXA9MC42MCBxcG1pbj0wIHFwbWF4PTY5IHFwc3RlcD00IGlwX3JhdGlvPTEuNDAgYXE9MToxLjAwAIAAAAMoZYiEADv//vb8/AptUwn/LZ/+iL/lb+9P2a61uFE7M7QacwPQC/3cd/Xi1bCrc27LcdG8bJkAU3Roif8JrvvgUzW1p+BRKmvGtFnXEcKROkdT/EQ7nAjMfF7zIGJ63eXG4cH5bdyAsC1Taz3zzHvVCiLSf+fOf05hxlOfcWq31teXTQPKBkPPFAmZOZdBmkeqqDNNaDKkKbSa5IBQ6onrA+/e+8h8RSBLY97d6mKqjJCI/uywevMXeNZ6Cox8w+rqMTNGiM0m3nhws2G+0JEDZycCnd0vgjVezumII0jfiqB5T6YAYIOT9AVY09VU9ChB6/vl/Dlp4V/YDmJ3OViZAY46Z39IYWv3OUKj+DsVnSrGMsOoGpaAeztaXbSSgzTwGj+DK651D7iwjIDZ2ka60dPLz+frm3vVb8GmQ/ki6Fsf3gxanBykza/mSKCvYtUjMvC2Fvz/M2kGrC9GglrfWv7vWPw2/vzTvyhfp8nvWHVNPWr8zhjtAWwsyUjHWk5Ev4vybmOs6LMwTw7L/xmiqYNJdLXxhMRlpCvkkOPnwQAl2LnPm4XN8sjlPKsAhSARBJdImFY2p3Fsms7feERZAxN57TSqqEpVje5O5NQqD4IlcEHiXwMFiayhKT5/AoS5cohH0Ful4xiO4nrAjQtEChklM3YW/cs+dMMpVViBsTHIe6dqDjCQzJNLfI61O5TTqkS3pPclQACNZIaAnrDNftMa8L75seisCoegxWUryVGeWNaaDKoW+7vB3XdunkgBxXS9wR0OWzemcOHX0KzyTVs1CmzTiapwQ0CoF1aHKjvHJa1amSFBLLSjWuysaTblaKRVp9iNgiDcaOJFrS2H06s/3eElqQAOZ23pllk5gRvcqj+BAKSvpyWtBmsNHdNaXz/1Obs4F7EJSiODE98KbGUfJPCF/UNUfILti1oNdhONqPscqa9dDSPIq5j0Y7G00Ct5ey2Z6rqIlgDkp5L5BodzwhBeJ8V/Hm4XEbClABN+O7AIp4iOjGTFxFdOUUDEbiMnwgmbrG23jfmqXqF9muuWHz3ydD2OGqtxdQ5wpfoakRK/oAB1QQAAACFBmiRsQ7/+qZYAmPzyOZZWqarwKUSBeBTNcsaX82XkcnAAAAATQZ5CeIX/ALXa2amZZchstZbVMQAAABABnmF0Qr8AmvpTwOmU3SWAAAAAEAGeY2pCvwDys8C6/WKRQsEAAAAZQZpoSahBaJlMCHf//qmWAJz9LoHD/Vs1IQAAAA5BnoZFESwv/wC6MqAwIQAAAA8BnqV0Qr8A+DYGh5zy6UEAAAAPAZ6nakK/APfzholc8ulBAAAAE0GarEmoQWyZTAh3//6plgAAlYAAAAAdQZ7KRRUsL/8AvNE9zLKYoxzLAPBzLIODpDzSVg8AAAAPAZ7pdEK/AP7zBg2Y4ko2AAAADwGe62pCvwD+kymbZkaytgAAABtBmvBJqEFsmUwIb//+p4QBPFB/7srAhP4mU3sAAAAQQZ8ORRUsL/8AvtBs88Vg4QAAAA8Bny10Qr8A+DYGuvi0oIEAAAAPAZ8vakK/AP7YjyXM+SUbAAAAGUGbMUmoQWyZTAh3//6plgCg3LUZAX0CesAAAAAbQZtVSeEKUmUwIb/+p4QBNfpdGb/JGAFui1mrAAAAEEGfc0U0TC//ALpQIrSif3QAAAAPAZ+SdEK/APgXoDJLlLuAAAAAEAGflGpCvwD+ta7e1hkj9SEAAAAfQZuYSahBaJlMCG///qeEAM37B/lrpdSp/ia/zkGSQAAAABNBn7ZFESwr/wCoNuiqzzCMZPKBAAAAEAGf12pCvwBsCW/gPr+A1xEAAAAUQZvaSahBbJlMFEw7//6plgAAlYAAAAAPAZ/5akK/AEODQPJgi+6BAAAAGkGb/knhClJlMCG//qeEAIKtpDB/o0vNoi9AAAAAEEGeHEU0TC//AE+n17S6VA0AAAAPAZ47dEK/AENtCAyS5a2BAAAAEAGePWpCvwBsHVPJgevbwIAAAAASQZoiSahBaJlMCG///qeEAAEnAAAADEGeQEURLC//AACygQAAABABnn90Qr8AavOTiOy7KtmAAAAADwGeYWpCvwBq85N1nqz1dwAAAB5BmmRJqEFsmUwUTDf//qeEAIN8jv/85Trwo1uY7vQAAAAPAZ6DakK/AGwJaVIoEqnpAAAAEkGahknhClJlMFLDf/6nhAABJwAAAA8BnqVqQr8AQ4NA8mCL7oEAAAASQZqoSeEOiZTBRMM//p4QAAR9AAAADwGex2pCvwBClSN1nqz2TgAAABhBmslJ4Q8mUwIZ//6eEAFI902MuTZVuWwAAAAhQZrrSeEPJlMFETwz//6eEAL77w1zgU2lu1wXI/GfTp/HAAAAEAGfCmpCvwCfWPHK/tw+osAAAAAYQZsMSeEPJlMCGf/+nhAEkOEc/hzm+soOAAAAGEGbLUnhDyZTAhn//p4QBLBDj+eC/khlDQAAAB1Bm09J4Q8mUwURPDP//p4QBLfnN+MV3I3ZsKo3oQAAABABn25qQr8A/s0bzTFW0dfBAAAAGEGbcEnhDyZTAhn//p4QAyPr7+RIj6wiHgAAABhBm5FJ4Q8mUwIZ//6eEAH99ffyJEfWEakAAAAYQZuySeEPJlMCGf/+nhABUfdN9FSs18CTAAAAGUGb00nhDyZTAhv//qeEADd+wf4Tgt0JZ8AAAAAXQZv1SeEPJlMFETwz//6eEABbPoH+D/cAAAAPAZ4UakK/AB0LAlyv8D9BAAAAGEGaFknhDyZTAhn//p4QAIt8Q863QMkRfAAAABlBmjdJ4Q8mUwIb//6nhAAi3x0+o40JDmBBAAAAGUGaWUnhDyZTBRE8M//+nhAAVivc1vc+Ji0AAAAPAZ54akK/ABIlSN1nqz8eAAAAGEGaeknhDyZTAhn//p4QAFqr3GhdN91x3QAAAB5BmpxJ4Q8mUwURPDP//p4QAFs9032AtQPdcR9ZvAQAAAAPAZ67akK/ABLZW6UaQ8aHAAAAGEGavUnhDyZTAhn//p4QADjevv5EiPrD3QAAABhBmt5J4Q8mUwIZ//6eEAAk3xD+2Qx9YncAAAAbQZr/SeEPJlMCG//+p4QABifZWBCf4Tgt0MngAAAAHUGbAUnhDyZTBRE8M//+nhAADz+vv1QfNU4blDFhAAAAEAGfIGpCvwADOEdudUzHRkAAAAAYQZsiSeEPJlMCG//+p4QAA7nsHr2Z8EaPAAAAGUGbQ0nhDyZTAhv//qeEAAWr0T/Vb5j8icAAAAAZQZtkSeEPJlMCHf/+qZYAAt/vqyqzNsxMwQAAACpBm4hJ4Q8mUwIb//6nhAAT/5AHPmWVTtD8Cl/Xb4E6vtAuqzT7KW4+z80AAAAVQZ+mRRE8L/8AC/Kueh/PosXBspvVAAAAEAGfxXRCvwAGwk0InxZim+kAAAAQAZ/HakK/AA/jPAuv7cQfoAAAAB5Bm8tJqEFomUwIb//+p4QAMT6w3MssTI7jWHPNkqcAAAAUQZ/pRREsK/8AJ9ZDfLlBV/K+6/sAAAAQAZ4KakK/ACfWPHK/WKSowAAAABpBmgxJqEFsmUwIb//+p4QAS1AFm22fZ81LwAAAACFBmi5J4QpSZTBRUsN//qeEALX7dPMssTI7iOGeXl+9HEEAAAAQAZ5NakK/AJLs8cr+3D6qQQAAABlBmk9J4Q6JlMCHf/6plgBb/fVlVmbZgEzBAAAAH0GacUnhDyZTBRU8O//+qZYAhBR1CDNAp9mPvfHOFfMAAAAQAZ6QakK/ANe7cJuM+vTXdAAAACdBmpVJ4Q8mUwId//6plgDw9+rmWVqmq8ClEgXgUzXKjZe2tsvWzQkAAAAkQZ6zRRE8L/8BgdjLuEpuf/4hAQGWf/4gY7Vn/5/uPWO9N9YHAAAADwGe0nRCvwILmR0DpityEwAAABABntRqQr8CCtxSH0BINI7pAAAAIEGa2UmoQWiZTAh3//6plgN+jogWZ7JYTGYQgH9+6pR8AAAAEEGe90URLC//AaM/xjmnHjEAAAAPAZ8WdEK/AjMlaYNku7JHAAAADwGfGGpCvwIzYrrK/vVgQAAAABNBmx1JqEFsmUwId//+qZYAAJWBAAAADEGfO0UVLC//AACygAAAABABn1p0Qr8CM2Vd3cDkHyhhAAAAEAGfXGpCvwIylbGCiUmDRsEAAAATQZtBSahBbJlMCHf//qmWAACVgAAAAAxBn39FFSwv/wAAsoAAAAAQAZ+edEK/AjNlXd3A5B8oYQAAABABn4BqQr8CMpWxgolJg0bAAAAAGkGbhEmoQWyZTAh3//6plgOAWG6H07UCmkvBAAAAD0GfokUVLCv/AjJLKR1gQAAAAA0Bn8NqQr8CM2K9Gho3AAAAE0GbyEmoQWyZTAh3//6plgAAlYEAAAAMQZ/mRRUsL/8AALKBAAAAEAGeBXRCvwFfso78AH26XEEAAAAQAZ4HakK/AjKVsYKJPsNGwAAAABNBmgxJqEFsmUwId//+qZYAAJWAAAAADEGeKkUVLC//AACygQAAABABnkl0Qr8CM2Vd3cDdvyhgAAAAEAGeS2pCvwIylbGCiT7DRsAAAAAcQZpQSahBbJlMCHf//qmWA/EsxaZnwhejHooRsQAAABBBnm5FFSwv/wGykGbUMRNxAAAADwGejXRCvwIzZV3c3saNgQAAABABno9qQr8CSMweTAm7nPmAAAAAJEGalEmoQWyZTAh3//6plgYPYbFqQzD15+ZZZ8+33XNN7BUNGAAAABFBnrJFFSwv/wHqmrrNkzBxwQAAAA8BntF0Qr8CdoSY3qB7Yj4AAAAOAZ7TakK/Ao/miaklUU0AAAAcQZrXSahBbJlMCHf//qmWBUtqoHD/FLQbiFSHgQAAABJBnvVFFSwr/wKSJQa48/CxdMAAAAAOAZ8WakK/ApBRjv9UiHkAAAAZQZsbSahBbJlMCHf//qmWATfwEA5v5MimgQAAAA5BnzlFFSwv/wEeoAKtoAAAABABn1h0Qr8BiXk3R23wqO6BAAAADwGfWmpCvwGJBY0SueXRnwAAABpBm15JqEFsmUwId//+qZYBM6WVxml/UkSNgQAAABJBn3xFFSwr/wJ2bA6JBwr/hn0AAAAQAZ+dakK/ApE0bzS61k1swAAAABdBm4JJqEFsmUwId//+qZYBR2kJNrUN6AAAAA5Bn6BFFSwv/wEmoAKsoQAAABABn990Qr8Bk3k3R23wqOmAAAAAEAGfwWpCvwKQ1ruqrz0S1oEAAAAcQZvGSahBbJlMCG///qeEAmndT9ZwCtmKEcOuOAAAABBBn+RFFSwv/wEez9m4IDFxAAAADwGeA3RCvwKSQB0HUslrQQAAABABngVqQr8BiSO3OtDC8NtBAAAAGkGaCUmoQWyZTAhv//6nhAEt+On1HGhIcFlBAAAAD0GeJ0UVLCv/APKD/ml1IAAAAA8BnkhqQr8Ao6jRNSU2yoAAAAAdQZpLSahBbJlMFEwz//6eEAL77pvte85VuKs3taEAAAAQAZ5qakK/AJ83IYfQEg4sqAAAABxBmm1J4QpSZTBSwz/+nhAB8vX39Qt7muPrS+igAAAAEAGejGpCvwBsGbmuPFW0lCEAAAAYQZqOSeEOiZTAhn/+nhABUfdN9FSs18CTAAAAGEGar0nhDyZTAhn//p4QANj6+/kSI+sJ8wAAABlBmtBJ4Q8mUwIb//6nhAAj3x0+o40JDl3AAAAAGUGa8UnhDyZTAhv//qeEABdfdT9RxoSHR8AAAAAdQZsTSeEPJlMFETw7//6plgAHf9pf1/VahZCl0SkAAAAPAZ8yakK/AAxBLSpFAlceAAAAGkGbN0nhDyZTAhv//qeEAAl3x0+4KdhNE01QAAAAEEGfVUURPC//AAWtlacpE+EAAAAQAZ90dEK/AAeXii4D8oAYMAAAAA8Bn3ZqQr8ABPo2u77vusEAAAAZQZt6SahBaJlMCGf//p4QAA8/r7u05u4xLwAAABJBn5hFESwr/wAE+wdd3f0jKsAAAAAOAZ+5akK/AAT5t13HhVcAAAAaQZu7SahBbJlMCG///qeEAAPP77Mf4fVue4AAAAAdQZvdSeEKUmUwUVLDf/6nhAAFqxWzE/1dvdT9tokAAAAQAZ/8akK/AASXaITcZ9exqQAAABhBm/5J4Q6JlMCG//6nhAAFzxWkEIn+XGsAAAAuQZoASeEPJlMFFTw3//6nhAAN3pDV+IQA//hKiCzF//hJiPxf/6/+mrW8wPWxVAAAABABnj9qQr8AC12PHK/txDrBAAAAHEGaIknhDyZTBTw7//6plgALJpZi0zQHd9GPXakAAAAPAZ5BakK/ABHdiPJgevffAAAAGEGaRUnhDyZTAh3//qmWAAtullZxWnJHoAAAAA9BnmNFETwr/wASWTcNz0EAAAANAZ6EakK/ABJg0i3uewAAABNBmolJqEFomUwId//+qZYAAJWBAAAADEGep0URLC//AACygQAAAA8BnsZ0Qr8AEt3HdHbfC7cAAAAPAZ7IakK/ABIlSN1nqz8eAAAAHEGazUmoQWyZTAh3//6plgASAo6IFmgO76Meud8AAAAQQZ7rRRUsL/8AFZZYJ8cewAAAAA8Bnwp0Qr8AHQjDyhoGa8cAAAAPAZ8MakK/AB0K+aHWi2aBAAAAHkGbEUmoQWyZTAh3//6plgAbKCzlBmgU+lUDh/sUZwAAABBBny9FFSwv/wAfv+KvIqNhAAAAEAGfTnRCvwAtfQDnbHGmneAAAAAPAZ9QakK/AC1qNE1JTjaAAAAAE0GbVUmoQWyZTAh3//6plgAAlYEAAAAMQZ9zRRUsL/8AALKAAAAADwGfknRCvwAtdo7o7b4V/wAAAA8Bn5RqQr8ALWo0QWo8u70AAAATQZuZSahBbJlMCHf//qmWAACVgAAAABRBn7dFFSwv/wAfdq/xmLXJnGVeLQAAABABn9Z0Qr8ALXaO8rZQ9NrBAAAAEAGf2GpCvwAsVkQm4z69PTgAAAASQZvdSahBbJlMCG///qeEAAEnAAAADEGf+0UVLC//AACygAAAABABnhp0Qr8AK9ZR34APt5xBAAAAEAGeHGpCvwBDbWu6yGHJYYEAAAAcQZoBSahBbJlMCGf//p4QAT2vdcRz+kdff0v/IAAAABBBnj9FFSwv/wAxCrxvYJG4AAAADwGeXnRCvwAtdo7zzi3egQAAABABnkBqQr8AQ15omRNKzfdAAAAAGUGaQkmoQWyZTAhn//6eEAHlKcc/hzm+s0EAAAAYQZpjSeEKUmUwIZ/+nhAC98GOfw5zfWWfAAAAGEGahEnhDomUwIZ//p4QBJDhHP4c5vrKDwAAAB1BmqZJ4Q8mUwURPDP//p4QCQL3Ncc/ZF8Q/L1WwQAAABABnsVqQr8BiXVPJgevbNSBAAAAGkGayUvhCEPJEYIKAfyAf2HgCFf//jhAABFxAAAAJkGe50URPCv/Aq9j7UHE3arDSSoobJS9Z2DQ2SQISg8sGH1oIibAAAAAIgGfCGpCvwKvY+1BxN2qw0lCry1MjsSVmIeWeGaU+3XjwYAAAAvQbW9vdgAAAGxtdmhkAAAAAAAAAAAAAAAAAAAD6AAAH5AAAQAAAQAAAAAAAAAAAAAAAAEAAAAAAAAAAAAAAAAAAAABAAAAAAAAAAAAAAAAAABAAAAAAAAAAAAAAAAAAAAAAAAAAAAAAAAAAAAAAAAAAgAACvp0cmFrAAAAXHRraGQAAAADAAAAAAAAAAAAAAABAAAAAAAAH5AAAAAAAAAAAAAAAAAAAAAAAAEAAAAAAAAAAAAAAAAAAAABAAAAAAAAAAAAAAAAAABAAAAAARAAAAEQAAAAAAAkZWR0cwAAABxlbHN0AAAAAAAAAAEAAB+QAAAEAAABAAAAAApybWRpYQAAACBtZGhkAAAAAAAAAAAAAAAAAAAyAAABlABVxAAAAAAALWhkbHIAAAAAAAAAAHZpZGUAAAAAAAAAAAAAAABWaWRlb0hhbmRsZXIAAAAKHW1pbmYAAAAUdm1oZAAAAAEAAAAAAAAAAAAAACRkaW5mAAAAHGRyZWYAAAAAAAAAAQAAAAx1cmwgAAAAAQAACd1zdGJsAAAAlXN0c2QAAAAAAAAAAQAAAIVhdmMxAAAAAAAAAAEAAAAAAAAAAAAAAAAAAAAAARABEABIAAAASAAAAAAAAAABAAAAAAAAAAAAAAAAAAAAAAAAAAAAAAAAAAAAAAAAAAAAGP//AAAAL2F2Y0MB9AAN/+EAF2f0AA2RmygiEdCAAAADAIAAABkHihTLAQAFaOvjxEgAAAAYc3R0cwAAAAAAAAABAAAAygAAAgAAAAAUc3RzcwAAAAAAAAABAAAAAQAABahjdHRzAAAAAAAAALMAAAABAAAEAAAAAAEAAAoAAAAAAQAABAAAAAABAAAAAAAAAAEAAAIAAAAAAQAACgAAAAABAAAEAAAAAAEAAAAAAAAAAQAAAgAAAAABAAAKAAAAAAEAAAQAAAAAAQAAAAAAAAABAAACAAAAAAEAAAoAAAAAAQAABAAAAAABAAAAAAAAAAEAAAIAAAAAAQAABAAAAAABAAAKAAAAAAEAAAQAAAAAAQAAAAAAAAABAAACAAAAAAEAAAgAAAAAAgAAAgAAAAABAAAGAAAAAAEAAAIAAAAAAQAACgAAAAABAAAEAAAAAAEAAAAAAAAAAQAAAgAAAAABAAAKAAAAAAEAAAQAAAAAAQAAAAAAAAABAAACAAAAAAEAAAYAAAAAAQAAAgAAAAABAAAGAAAAAAEAAAIAAAAAAQAABgAAAAABAAACAAAAAAEAAAQAAAAAAQAABgAAAAABAAACAAAAAAIAAAQAAAAAAQAABgAAAAABAAACAAAAAAQAAAQAAAAAAQAABgAAAAABAAACAAAAAAIAAAQAAAAAAQAABgAAAAABAAACAAAAAAEAAAQAAAAAAQAABgAAAAABAAACAAAAAAMAAAQAAAAAAQAABgAAAAABAAACAAAAAAMAAAQAAAAAAQAACgAAAAABAAAEAAAAAAEAAAAAAAAAAQAAAgAAAAABAAAIAAAAAAIAAAIAAAAAAQAABAAAAAABAAAGAAAAAAEAAAIAAAAAAQAABAAAAAABAAAGAAAAAAEAAAIAAAAAAQAACgAAAAABAAAEAAAAAAEAAAAAAAAAAQAAAgAAAAABAAAKAAAAAAEAAAQAAAAAAQAAAAAAAAABAAACAAAAAAEAAAoAAAAAAQAABAAAAAABAAAAAAAAAAEAAAIAAAAAAQAACgAAAAABAAAEAAAAAAEAAAAAAAAAAQAAAgAAAAABAAAIAAAAAAIAAAIAAAAAAQAACgAAAAABAAAEAAAAAAEAAAAAAAAAAQAAAgAAAAABAAAKAAAAAAEAAAQAAAAAAQAAAAAAAAABAAACAAAAAAEAAAoAAAAAAQAABAAAAAABAAAAAAAAAAEAAAIAAAAAAQAACgAAAAABAAAEAAAAAAEAAAAAAAAAAQAAAgAAAAABAAAIAAAAAAIAAAIAAAAAAQAACgAAAAABAAAEAAAAAAEAAAAAAAAAAQAAAgAAAAABAAAIAAAAAAIAAAIAAAAAAQAACgAAAAABAAAEAAAAAAEAAAAAAAAAAQAAAgAAAAABAAAKAAAAAAEAAAQAAAAAAQAAAAAAAAABAAACAAAAAAEAAAgAAAAAAgAAAgAAAAABAAAGAAAAAAEAAAIAAAAAAQAABgAAAAABAAACAAAAAAQAAAQAAAAAAQAABgAAAAABAAACAAAAAAEAAAoAAAAAAQAABAAAAAABAAAAAAAAAAEAAAIAAAAAAQAACAAAAAACAAACAAAAAAEAAAQAAAAAAQAABgAAAAABAAACAAAAAAEAAAQAAAAAAQAABgAAAAABAAACAAAAAAEAAAYAAAAAAQAAAgAAAAABAAAIAAAAAAIAAAIAAAAAAQAACgAAAAABAAAEAAAAAAEAAAAAAAAAAQAAAgAAAAABAAAKAAAAAAEAAAQAAAAAAQAAAAAAAAABAAACAAAAAAEAAAoAAAAAAQAABAAAAAABAAAAAAAAAAEAAAIAAAAAAQAACgAAAAABAAAEAAAAAAEAAAAAAAAAAQAAAgAAAAABAAAKAAAAAAEAAAQAAAAAAQAAAAAAAAABAAACAAAAAAEAAAoAAAAAAQAABAAAAAABAAAAAAAAAAEAAAIAAAAAAQAACgAAAAABAAAEAAAAAAEAAAAAAAAAAQAAAgAAAAADAAAEAAAAAAEAAAYAAAAAAQAAAgAAAAABAAAIAAAAAAIAAAIAAAAAHHN0c2MAAAAAAAAAAQAAAAEAAADKAAAAAQAAAzxzdHN6AAAAAAAAAAAAAADKAAAF3QAAACUAAAAXAAAAFAAAABQAAAAdAAAAEgAAABMAAAATAAAAFwAAACEAAAATAAAAEwAAAB8AAAAUAAAAEwAAABMAAAAdAAAAHwAAABQAAAATAAAAFAAAACMAAAAXAAAAFAAAABgAAAATAAAAHgAAABQAAAATAAAAFAAAABYAAAAQAAAAFAAAABMAAAAiAAAAEwAAABYAAAATAAAAFgAAABMAAAAcAAAAJQAAABQAAAAcAAAAHAAAACEAAAAUAAAAHAAAABwAAAAcAAAAHQAAABsAAAATAAAAHAAAAB0AAAAdAAAAEwAAABwAAAAiAAAAEwAAABwAAAAcAAAAHwAAACEAAAAUAAAAHAAAAB0AAAAdAAAALgAAABkAAAAUAAAAFAAAACIAAAAYAAAAFAAAAB4AAAAlAAAAFAAAAB0AAAAjAAAAFAAAACsAAAAoAAAAEwAAABQAAAAkAAAAFAAAABMAAAATAAAAFwAAABAAAAAUAAAAFAAAABcAAAAQAAAAFAAAABQAAAAeAAAAEwAAABEAAAAXAAAAEAAAABQAAAAUAAAAFwAAABAAAAAUAAAAFAAAACAAAAAUAAAAEwAAABQAAAAoAAAAFQAAABMAAAASAAAAIAAAABYAAAASAAAAHQAAABIAAAAUAAAAEwAAAB4AAAAWAAAAFAAAABsAAAASAAAAFAAAABQAAAAgAAAAFAAAABMAAAAUAAAAHgAAABMAAAATAAAAIQAAABQAAAAgAAAAFAAAABwAAAAcAAAAHQAAAB0AAAAhAAAAEwAAAB4AAAAUAAAAFAAAABMAAAAdAAAAFgAAABIAAAAeAAAAIQAAABQAAAAcAAAAMgAAABQAAAAgAAAAEwAAABwAAAATAAAAEQAAABcAAAAQAAAAEwAAABMAAAAgAAAAFAAAABMAAAATAAAAIgAAABQAAAAUAAAAEwAAABcAAAAQAAAAEwAAABMAAAAXAAAAGAAAABQAAAAUAAAAFgAAABAAAAAUAAAAFAAAACAAAAAUAAAAEwAAABQAAAAdAAAAHAAAABwAAAAhAAAAFAAAAB4AAAAqAAAAJgAAABRzdGNvAAAAAAAAAAEAAAAwAAAAYnVkdGEAAABabWV0YQAAAAAAAAAhaGRscgAAAAAAAAAAbWRpcmFwcGwAAAAAAAAAAAAAAAAtaWxzdAAAACWpdG9vAAAAHWRhdGEAAAABAAAAAExhdmY1OC4xMi4xMDA=\" type=\"video/mp4\" />\n",
       "             </video>"
      ],
      "text/plain": [
       "<IPython.core.display.HTML object>"
      ]
     },
     "execution_count": 27,
     "metadata": {},
     "output_type": "execute_result"
    }
   ],
   "source": [
    "env = Environment(grid_size=size, max_time=T, temperature=0.3)\n",
    "agent = DQN_FC(size, lr=.1, epsilon = 0.1, memory_size=2000, batch_size = 32, n_state=2)\n",
    "train(agent, env, epochs_train, prefix='fc_train')\n",
    "HTML(display_videos('fc_train40.mp4'))"
   ]
  },
  {
   "cell_type": "markdown",
   "metadata": {},
   "source": [
    "***\n",
    "***\n",
    "__Question 8__ Implement the DQN training algorithm using a CNN (for example, 2 convolutional layers and one final fully connected layer)."
   ]
  },
  {
   "cell_type": "code",
   "execution_count": 30,
   "metadata": {},
   "outputs": [],
   "source": [
    "class DQN_CNN(DQN):\n",
    "    def __init__(self, *args,lr=0.1,**kwargs):\n",
    "        super().__init__(*args,**kwargs)\n",
    "        \n",
    "        model = keras.models.Sequential([\n",
    "            keras.layers.Conv2D(20, kernel_size=(2, 2), input_shape=(5, 5, self.n_state), activation='relu', data_format='channels_last'),\n",
    "            keras.layers.Conv2D(20, kernel_size=(2, 2), activation='relu'),\n",
    "            keras.layers.Flatten(),\n",
    "            keras.layers.Dense(50),\n",
    "            keras.layers.Dense(4)\n",
    "        ])\n",
    "        model.compile(sgd(lr=lr, decay=1e-4, momentum=0.0), \"mse\")\n",
    "        self.model = model"
   ]
  },
  {
   "cell_type": "code",
   "execution_count": 39,
   "metadata": {
    "scrolled": true
   },
   "outputs": [
    {
     "name": "stdout",
     "output_type": "stream",
     "text": [
      "Epoch 000/050 | Loss 0.0023 | Win/lose count 2.0/2.0 (0.0)\n",
      "Epoch 001/050 | Loss 0.0110 | Win/lose count 10.5/6.0 (4.5)\n",
      "Epoch 002/050 | Loss 0.0065 | Win/lose count 10.5/17.0 (-6.5)\n",
      "Epoch 003/050 | Loss 0.0197 | Win/lose count 11.0/9.0 (2.0)\n",
      "Epoch 004/050 | Loss 0.0165 | Win/lose count 7.5/5.0 (2.5)\n",
      "Epoch 005/050 | Loss 0.0052 | Win/lose count 5.5/9.0 (-3.5)\n",
      "Epoch 006/050 | Loss 0.0204 | Win/lose count 14.5/8.0 (6.5)\n",
      "Epoch 007/050 | Loss 0.0082 | Win/lose count 13.5/7.0 (6.5)\n",
      "Epoch 008/050 | Loss 0.0134 | Win/lose count 4.5/4.0 (0.5)\n",
      "Epoch 009/050 | Loss 0.0056 | Win/lose count 12.0/3.0 (9.0)\n",
      "Epoch 010/050 | Loss 0.0076 | Win/lose count 12.5/8.0 (4.5)\n",
      "Epoch 011/050 | Loss 0.0041 | Win/lose count 16.5/8.0 (8.5)\n",
      "Epoch 012/050 | Loss 0.0143 | Win/lose count 16.0/7.0 (9.0)\n",
      "Epoch 013/050 | Loss 0.0052 | Win/lose count 15.5/3.0 (12.5)\n",
      "Epoch 014/050 | Loss 0.0231 | Win/lose count 24.5/5.0 (19.5)\n",
      "Epoch 015/050 | Loss 0.0108 | Win/lose count 8.5/7.0 (1.5)\n",
      "Epoch 016/050 | Loss 0.0162 | Win/lose count 17.0/6.0 (11.0)\n",
      "Epoch 017/050 | Loss 0.0044 | Win/lose count 10.0/2.0 (8.0)\n",
      "Epoch 018/050 | Loss 0.0029 | Win/lose count 12.5/2.0 (10.5)\n",
      "Epoch 019/050 | Loss 0.0092 | Win/lose count 14.5/8.0 (6.5)\n",
      "Epoch 020/050 | Loss 0.0024 | Win/lose count 13.5/8.0 (5.5)\n",
      "Epoch 021/050 | Loss 0.0041 | Win/lose count 9.0/5.0 (4.0)\n",
      "Epoch 022/050 | Loss 0.0034 | Win/lose count 17.5/5.0 (12.5)\n",
      "Epoch 023/050 | Loss 0.0031 | Win/lose count 12.5/5.0 (7.5)\n",
      "Epoch 024/050 | Loss 0.0173 | Win/lose count 21.0/6.0 (15.0)\n",
      "Epoch 025/050 | Loss 0.0243 | Win/lose count 13.0/8.0 (5.0)\n",
      "Epoch 026/050 | Loss 0.0035 | Win/lose count 19.5/6.0 (13.5)\n",
      "Epoch 027/050 | Loss 0.0629 | Win/lose count 14.5/7.0 (7.5)\n",
      "Epoch 028/050 | Loss 0.0051 | Win/lose count 20.0/6.0 (14.0)\n",
      "Epoch 029/050 | Loss 0.0639 | Win/lose count 14.0/6.0 (8.0)\n",
      "Epoch 030/050 | Loss 0.0020 | Win/lose count 18.5/2.0 (16.5)\n",
      "Epoch 031/050 | Loss 0.0168 | Win/lose count 21.0/7.0 (14.0)\n",
      "Epoch 032/050 | Loss 0.0082 | Win/lose count 14.0/4.0 (10.0)\n",
      "Epoch 033/050 | Loss 0.0026 | Win/lose count 16.5/5.0 (11.5)\n",
      "Epoch 034/050 | Loss 0.0040 | Win/lose count 16.5/7.0 (9.5)\n",
      "Epoch 035/050 | Loss 0.0034 | Win/lose count 18.0/2.0 (16.0)\n",
      "Epoch 036/050 | Loss 0.0685 | Win/lose count 14.0/4.0 (10.0)\n",
      "Epoch 037/050 | Loss 0.0650 | Win/lose count 13.0/7.0 (6.0)\n",
      "Epoch 038/050 | Loss 0.0082 | Win/lose count 14.0/3.0 (11.0)\n",
      "Epoch 039/050 | Loss 0.0118 | Win/lose count 22.0/8.0 (14.0)\n",
      "Epoch 040/050 | Loss 0.0085 | Win/lose count 18.5/7.0 (11.5)\n",
      "Epoch 041/050 | Loss 0.0040 | Win/lose count 12.5/4.0 (8.5)\n",
      "Epoch 042/050 | Loss 0.0217 | Win/lose count 18.5/9.0 (9.5)\n",
      "Epoch 043/050 | Loss 0.0041 | Win/lose count 15.0/6.0 (9.0)\n",
      "Epoch 044/050 | Loss 0.0167 | Win/lose count 11.5/4.0 (7.5)\n",
      "Epoch 045/050 | Loss 0.0132 | Win/lose count 14.5/5.0 (9.5)\n",
      "Epoch 046/050 | Loss 0.0093 | Win/lose count 15.5/4.0 (11.5)\n",
      "Epoch 047/050 | Loss 0.0099 | Win/lose count 13.0/2.0 (11.0)\n",
      "Epoch 048/050 | Loss 0.0178 | Win/lose count 8.5/3.0 (5.5)\n",
      "Epoch 049/050 | Loss 0.0222 | Win/lose count 8.5/5.0 (3.5)\n"
     ]
    },
    {
     "data": {
      "text/html": [
       "<video alt=\"test\" controls>\n",
       "                <source src=\"data:video/mp4;base64,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\" type=\"video/mp4\" />\n",
       "             </video>"
      ],
      "text/plain": [
       "<IPython.core.display.HTML object>"
      ]
     },
     "execution_count": 39,
     "metadata": {},
     "output_type": "execute_result"
    }
   ],
   "source": [
    "env = Environment(grid_size=size, max_time=T, temperature=0.3)\n",
    "agent = DQN_CNN(size, lr=.1, epsilon = 0.1, memory_size=2000, batch_size=32)\n",
    "train(agent,env,epochs_train,prefix='cnn_train')\n",
    "HTML(display_videos('cnn_train40.mp4'))"
   ]
  },
  {
   "cell_type": "markdown",
   "metadata": {},
   "source": [
    "***\n",
    "***\n",
    "__Question 9__ Test both algorithms and compare their performances. Which issue(s) do you observe? Observe also different behaviors by changing the temperature.\n"
   ]
  },
  {
   "cell_type": "markdown",
   "metadata": {},
   "source": [
    "##### Temperature = 0.1"
   ]
  },
  {
   "cell_type": "code",
   "execution_count": 40,
   "metadata": {
    "scrolled": true
   },
   "outputs": [
    {
     "name": "stdout",
     "output_type": "stream",
     "text": [
      "Test of the CNN\n",
      "Win/lose count 1.5/1.0. Average score (0.5)\n",
      "Win/lose count 0.5/0. Average score (0.5)\n",
      "Win/lose count 4.0/4.0. Average score (0.3333333333333333)\n",
      "Win/lose count 2.0/0. Average score (0.75)\n",
      "Win/lose count 5.0/3.0. Average score (1.0)\n",
      "Win/lose count 6.0/1.0. Average score (1.6666666666666667)\n",
      "Win/lose count 4.0/4.0. Average score (1.4285714285714286)\n",
      "Win/lose count 3.0/0. Average score (1.625)\n",
      "Win/lose count 3.0/1.0. Average score (1.6666666666666667)\n",
      "Win/lose count 4.0/2.0. Average score (1.7)\n",
      "Final score: 1.7\n",
      "Test of the FC\n",
      "Win/lose count 1.5/3.0. Average score (-1.5)\n",
      "Win/lose count 2.0/2.0. Average score (-0.75)\n",
      "Win/lose count 2.0/4.0. Average score (-1.1666666666666667)\n",
      "Win/lose count 1.0/0. Average score (-0.625)\n",
      "Win/lose count 0.5/1.0. Average score (-0.6)\n",
      "Win/lose count 3.5/1.0. Average score (-0.08333333333333333)\n",
      "Win/lose count 0.5/1.0. Average score (-0.14285714285714285)\n",
      "Win/lose count 0.5/3.0. Average score (-0.4375)\n",
      "Win/lose count 0.5/0. Average score (-0.3333333333333333)\n",
      "Win/lose count 1.5/1.0. Average score (-0.25)\n",
      "Final score: -0.25\n"
     ]
    }
   ],
   "source": [
    "env = Environment(grid_size=size, max_time=T,temperature=0.1)\n",
    "agent_cnn = DQN_CNN(size, lr=.1, epsilon = 0.1, memory_size=1000, batch_size = 32)\n",
    "agent_cnn.load(name_weights='cnn_trainmodel.h5',name_model='cnn_trainmodel.json')\n",
    "\n",
    "agent_fc = DQN_FC(size, lr=.1, epsilon = 0.1, memory_size=1000, batch_size = 32)\n",
    "agent_fc.load(name_weights='fc_trainmodel.h5',name_model='fc_trainmodel.json')\n",
    "print('Test of the CNN')\n",
    "test(agent_cnn,env,epochs_test,prefix='cnn_test')\n",
    "print('Test of the FC')\n",
    "test(agent_fc,env,epochs_test,prefix='fc_test')"
   ]
  },
  {
   "cell_type": "markdown",
   "metadata": {},
   "source": [
    "##### Temperature = 0.3"
   ]
  },
  {
   "cell_type": "code",
   "execution_count": 41,
   "metadata": {},
   "outputs": [
    {
     "name": "stdout",
     "output_type": "stream",
     "text": [
      "Test of the CNN\n",
      "Win/lose count 4.0/1.0. Average score (3.0)\n",
      "Win/lose count 6.0/1.0. Average score (4.0)\n",
      "Win/lose count 3.5/0. Average score (3.8333333333333335)\n",
      "Win/lose count 1.0/3.0. Average score (2.375)\n",
      "Win/lose count 2.0/4.0. Average score (1.5)\n",
      "Win/lose count 7.5/5.0. Average score (1.6666666666666667)\n",
      "Win/lose count 14.0/4.0. Average score (2.857142857142857)\n",
      "Win/lose count 11.0/1.0. Average score (3.75)\n",
      "Win/lose count 9.5/1.0. Average score (4.277777777777778)\n",
      "Win/lose count 3.5/2.0. Average score (4.0)\n",
      "Final score: 4.0\n",
      "Test of the FC\n",
      "Win/lose count 6.5/4.0. Average score (2.5)\n",
      "Win/lose count 6.5/5.0. Average score (2.0)\n",
      "Win/lose count 4.5/1.0. Average score (2.5)\n",
      "Win/lose count 6.0/1.0. Average score (3.125)\n",
      "Win/lose count 7.0/5.0. Average score (2.9)\n",
      "Win/lose count 6.5/5.0. Average score (2.6666666666666665)\n",
      "Win/lose count 3.0/2.0. Average score (2.4285714285714284)\n",
      "Win/lose count 7.0/3.0. Average score (2.625)\n",
      "Win/lose count 6.5/4.0. Average score (2.611111111111111)\n",
      "Win/lose count 6.0/3.0. Average score (2.65)\n",
      "Final score: 2.65\n"
     ]
    }
   ],
   "source": [
    "env = Environment(grid_size=size, max_time=T,temperature=0.3)\n",
    "agent_cnn = DQN_CNN(size, lr=.1, epsilon = 0.1, memory_size=1000, batch_size = 32)\n",
    "agent_cnn.load(name_weights='cnn_trainmodel.h5',name_model='cnn_trainmodel.json')\n",
    "\n",
    "agent_fc = DQN_FC(size, lr=.1, epsilon = 0.1, memory_size=1000, batch_size = 32)\n",
    "agent_fc.load(name_weights='fc_trainmodel.h5',name_model='fc_trainmodel.json')\n",
    "print('Test of the CNN')\n",
    "test(agent_cnn,env,epochs_test,prefix='cnn_test')\n",
    "print('Test of the FC')\n",
    "test(agent_fc,env,epochs_test,prefix='fc_test')"
   ]
  },
  {
   "cell_type": "markdown",
   "metadata": {},
   "source": [
    "##### Temperature = 0.7"
   ]
  },
  {
   "cell_type": "code",
   "execution_count": 42,
   "metadata": {},
   "outputs": [
    {
     "name": "stdout",
     "output_type": "stream",
     "text": [
      "Test of the CNN\n",
      "Win/lose count 6.5/2.0. Average score (4.5)\n",
      "Win/lose count 14.0/3.0. Average score (7.75)\n",
      "Win/lose count 9.0/2.0. Average score (7.5)\n",
      "Win/lose count 7.0/0. Average score (7.375)\n",
      "Win/lose count 15.0/3.0. Average score (8.3)\n",
      "Win/lose count 14.5/2.0. Average score (9.0)\n",
      "Win/lose count 13.5/1.0. Average score (9.5)\n",
      "Win/lose count 19.0/3.0. Average score (10.3125)\n",
      "Win/lose count 10.0/3.0. Average score (9.944444444444445)\n",
      "Win/lose count 23.0/6.0. Average score (10.65)\n",
      "Final score: 10.65\n",
      "Test of the FC\n",
      "Win/lose count 11.0/4.0. Average score (7.0)\n",
      "Win/lose count 16.5/6.0. Average score (8.75)\n",
      "Win/lose count 11.0/5.0. Average score (7.833333333333333)\n",
      "Win/lose count 16.0/4.0. Average score (8.875)\n",
      "Win/lose count 19.0/5.0. Average score (9.9)\n",
      "Win/lose count 11.5/5.0. Average score (9.333333333333334)\n",
      "Win/lose count 17.0/4.0. Average score (9.857142857142858)\n",
      "Win/lose count 13.0/2.0. Average score (10.0)\n",
      "Win/lose count 21.5/6.0. Average score (10.61111111111111)\n",
      "Win/lose count 9.5/4.0. Average score (10.1)\n",
      "Final score: 10.1\n"
     ]
    }
   ],
   "source": [
    "env = Environment(grid_size=size, max_time=T,temperature=0.7)\n",
    "agent_cnn = DQN_CNN(size, lr=.1, epsilon = 0.1, memory_size=1000, batch_size = 32)\n",
    "agent_cnn.load(name_weights='cnn_trainmodel.h5',name_model='cnn_trainmodel.json')\n",
    "\n",
    "agent_fc = DQN_FC(size, lr=.1, epsilon = 0.1, memory_size=1000, batch_size = 32)\n",
    "agent_fc.load(name_weights='fc_trainmodel.h5',name_model='fc_trainmodel.json')\n",
    "print('Test of the CNN')\n",
    "test(agent_cnn,env,epochs_test,prefix='cnn_test')\n",
    "print('Test of the FC')\n",
    "test(agent_fc,env,epochs_test,prefix='fc_test')"
   ]
  },
  {
   "cell_type": "markdown",
   "metadata": {},
   "source": [
    "We see that the CNN is better and learns faster than the fully connected network. However both networks suffer hugely from loop states. They oscillate between two positions until one/several random actions take them away. \n",
    "\n",
    "When we increase the temperature, the gap between CNN and FC decreases."
   ]
  },
  {
   "cell_type": "markdown",
   "metadata": {},
   "source": [
    "***\n",
    "\n",
    "The algorithm tends to not explore the map which can be an issue. We propose two ideas in order to encourage exploration:\n",
    "1. Incorporating a decreasing $\\epsilon$-greedy exploration. You can use the method ```set_epsilon```\n",
    "2. Append via the environment a new state that describes if a cell has been visited or not\n",
    "\n",
    "***\n",
    "\n",
    "__Question 10__ Design a new ```train_explore``` function and environment class ```EnvironmentExploring``` to tackle the issue of exploration.\n",
    "\n"
   ]
  },
  {
   "cell_type": "code",
   "execution_count": 43,
   "metadata": {},
   "outputs": [],
   "source": [
    "def train_explore(agent, env, epoch, epsilon=0.1, decay=0.99, prefix=''):\n",
    "    # Number of won games\n",
    "    score = 0\n",
    "    loss = 0\n",
    "\n",
    "    for e in range(epoch):\n",
    "        # At each epoch, we restart to a fresh game and get the initial state\n",
    "        state = env.reset()\n",
    "        # This assumes that the games will terminate\n",
    "        game_over = False\n",
    "\n",
    "        win = 0\n",
    "        lose = 0\n",
    "        \n",
    "        agent.set_epsilon(epsilon)\n",
    "\n",
    "        while not game_over:\n",
    "            # The agent performs an action\n",
    "            action = agent.act(state)\n",
    "\n",
    "            agent.epsilon *= decay\n",
    "            \n",
    "            # Apply an action to the environment, get the next state, the reward\n",
    "            # and if the games end\n",
    "            prev_state = state\n",
    "            state, reward, game_over = env.act(action, train=True)\n",
    "\n",
    "            # Update the counters\n",
    "            if reward > 0:\n",
    "                win = win + reward\n",
    "            if reward < 0:\n",
    "                lose = lose -reward\n",
    "                \n",
    "            # Apply the reinforcement strategy\n",
    "            loss = agent.reinforce(prev_state, state,  action, reward, game_over)\n",
    "\n",
    "        # Save as a mp4\n",
    "        if e % 10 == 0:\n",
    "            env.draw(prefix+str(e))\n",
    "\n",
    "        # Update stats\n",
    "        score += win-lose\n",
    "\n",
    "        print(\"Epoch {:03d}/{:03d} | Loss {:.4f} | Win/lose count {}/{} ({})\"\n",
    "              .format(e, epoch, loss, win, lose, win-lose))\n",
    "        agent.save(name_weights=prefix+'model.h5',name_model=prefix+'model.json')\n",
    "        \n",
    "        \n",
    "class EnvironmentExploring(object):\n",
    "    def __init__(self, grid_size=10, max_time=500, temperature=0.1):\n",
    "        grid_size = grid_size+4\n",
    "        self.grid_size = grid_size\n",
    "        self.max_time = max_time\n",
    "        self.temperature = temperature\n",
    "\n",
    "        #board on which one plays\n",
    "        self.board = np.zeros((grid_size,grid_size))\n",
    "        self.position = np.zeros((grid_size,grid_size))\n",
    "        \n",
    "        self.malus_position = np.zeros((grid_size,grid_size))\n",
    "\n",
    "        # coordinate of the cat\n",
    "        self.x = 0\n",
    "        self.y = 1\n",
    "\n",
    "        # self time\n",
    "        self.t = 0\n",
    "\n",
    "        self.scale=16\n",
    "\n",
    "        self.to_draw = np.zeros((max_time+2, grid_size*self.scale, grid_size*self.scale, 3))\n",
    "\n",
    "\n",
    "    def draw(self,e):\n",
    "        skvideo.io.vwrite(str(e) + '.mp4', self.to_draw)\n",
    "\n",
    "    def get_frame(self,t):\n",
    "        b = np.zeros((self.grid_size,self.grid_size,3))+128\n",
    "        b[self.board>0,0] = 256\n",
    "        b[self.board < 0, 2] = 256\n",
    "        b[self.x,self.y,:]=256\n",
    "        b[-2:,:,:]=0\n",
    "        b[:,-2:,:]=0\n",
    "        b[:2,:,:]=0\n",
    "        b[:,:2,:]=0\n",
    "        \n",
    "        b =  cv2.resize(b, None, fx=self.scale, fy=self.scale, interpolation=cv2.INTER_NEAREST)\n",
    "\n",
    "        self.to_draw[t,:,:,:]=b\n",
    "\n",
    "\n",
    "    def act(self, action, train=False):\n",
    "        \"\"\"This function returns the new state, reward and decides if the\n",
    "        game ends.\"\"\"\n",
    "\n",
    "        self.get_frame(int(self.t))\n",
    "\n",
    "        self.position = np.zeros((self.grid_size, self.grid_size))\n",
    "\n",
    "        self.position[0:2,:]= -1\n",
    "        self.position[:,0:2] = -1\n",
    "        self.position[-2:, :] = -1\n",
    "        self.position[:, -2:] = -1\n",
    "\n",
    "        self.position[self.x, self.y] = 1\n",
    "        if action == 0:\n",
    "            if self.x == self.grid_size-3:\n",
    "                self.x = self.x-1\n",
    "            else:\n",
    "                self.x = self.x + 1\n",
    "        elif action == 1:\n",
    "            if self.x == 2:\n",
    "                self.x = self.x+1\n",
    "            else:\n",
    "                self.x = self.x-1\n",
    "        elif action == 2:\n",
    "            if self.y == self.grid_size - 3:\n",
    "                self.y = self.y - 1\n",
    "            else:\n",
    "                self.y = self.y + 1\n",
    "        elif action == 3:\n",
    "            if self.y == 2:\n",
    "                self.y = self.y + 1\n",
    "            else:\n",
    "                self.y = self.y - 1\n",
    "        else:\n",
    "            RuntimeError('Error: action not recognized')\n",
    "\n",
    "        self.t = self.t + 1\n",
    "        \n",
    "        reward = 0\n",
    "        if train:\n",
    "            reward = -self.malus_position[self.x, self.y]\n",
    "        self.malus_position[self.x, self.y] += 0.1\n",
    "        reward = reward + self.board[self.x, self.y]   \n",
    "        \n",
    "        \n",
    "        self.board[self.x, self.y] = 0\n",
    "        game_over = self.t > self.max_time \n",
    "        state = np.concatenate((self.malus_position.reshape(self.grid_size, self.grid_size,1),\n",
    "                                self.board.reshape(self.grid_size, self.grid_size,1),\n",
    "                                self.position.reshape(self.grid_size, self.grid_size,1)),axis=2)\n",
    "        state = state[self.x-2:self.x+3,self.y-2:self.y+3,:]\n",
    "\n",
    "        return state, reward, game_over\n",
    "\n",
    "    def reset(self):\n",
    "        \"\"\"This function resets the game and returns the initial state\"\"\"\n",
    "\n",
    "        self.x = np.random.randint(3, self.grid_size-3, size=1)[0]\n",
    "        self.y = np.random.randint(3, self.grid_size-3, size=1)[0]\n",
    "\n",
    "        \n",
    "        bonus = 0.5*np.random.binomial(1,self.temperature,size=self.grid_size**2)\n",
    "        bonus = bonus.reshape(self.grid_size,self.grid_size)\n",
    "\n",
    "        malus = -1.0*np.random.binomial(1,self.temperature,size=self.grid_size**2)\n",
    "        malus = malus.reshape(self.grid_size, self.grid_size)\n",
    "\n",
    "        self.to_draw = np.zeros((self.max_time+2, self.grid_size*self.scale, self.grid_size*self.scale, 3))\n",
    "\n",
    "\n",
    "        malus[bonus>0]=0 \n",
    "        \n",
    "        self.board = bonus + malus \n",
    "        \n",
    "        self.board[:2,:] = 0\n",
    "        self.board[-2:,:] = 0\n",
    "        self.board[:, :2] = 0\n",
    "        self.board[:, -2:] = 0\n",
    "\n",
    "        self.position = np.zeros((self.grid_size, self.grid_size))\n",
    "        self.position[0:2,:]= -1\n",
    "        self.position[:,0:2] = -1\n",
    "        self.position[-2:, :] = -1 # error, 2 times same line\n",
    "        self.position[:, -2:] = -1\n",
    "        self.board[self.x,self.y] = 0\n",
    "        self.t = 0\n",
    "        \n",
    "        self.malus_position = np.zeros((self.grid_size, self.grid_size))\n",
    "\n",
    "        state = np.concatenate((self.malus_position.reshape(self.grid_size, self.grid_size,1),\n",
    "                                self.board.reshape(self.grid_size, self.grid_size,1),\n",
    "                                self.position.reshape(self.grid_size, self.grid_size,1)),axis=2)\n",
    "\n",
    "        state = state[self.x - 2:self.x + 3, self.y - 2:self.y + 3, :]\n",
    "        return state        "
   ]
  },
  {
   "cell_type": "code",
   "execution_count": 45,
   "metadata": {},
   "outputs": [
    {
     "name": "stdout",
     "output_type": "stream",
     "text": [
      "Epoch 000/050 | Loss 0.0473 | Win/lose count 13.0/53.60000000000004 (-40.60000000000004)\n",
      "Epoch 001/050 | Loss 0.0281 | Win/lose count 6.5/71.99999999999999 (-65.49999999999999)\n",
      "Epoch 002/050 | Loss 0.0271 | Win/lose count 8.0/71.99999999999999 (-63.999999999999986)\n",
      "Epoch 003/050 | Loss 0.0225 | Win/lose count 9.5/48.40000000000002 (-38.90000000000002)\n",
      "Epoch 004/050 | Loss 0.0263 | Win/lose count 12.0/37.60000000000001 (-25.60000000000001)\n",
      "Epoch 005/050 | Loss 0.0270 | Win/lose count 10.0/46.400000000000034 (-36.400000000000034)\n",
      "Epoch 006/050 | Loss 0.0824 | Win/lose count 9.0/50.20000000000004 (-41.20000000000004)\n",
      "Epoch 007/050 | Loss 0.0266 | Win/lose count 16.0/29.999999999999996 (-13.999999999999996)\n",
      "Epoch 008/050 | Loss 0.0429 | Win/lose count 17.0/35.40000000000002 (-18.40000000000002)\n",
      "Epoch 009/050 | Loss 0.0413 | Win/lose count 16.0/33.6 (-17.6)\n",
      "Epoch 010/050 | Loss 0.0431 | Win/lose count 18.0/29.500000000000018 (-11.500000000000018)\n",
      "Epoch 011/050 | Loss 0.0379 | Win/lose count 13.5/31.200000000000014 (-17.700000000000014)\n",
      "Epoch 012/050 | Loss 0.0534 | Win/lose count 15.0/33.50000000000002 (-18.50000000000002)\n",
      "Epoch 013/050 | Loss 0.0734 | Win/lose count 20.0/19.199999999999992 (0.8000000000000078)\n",
      "Epoch 014/050 | Loss 0.0460 | Win/lose count 22.0/18.299999999999994 (3.7000000000000064)\n",
      "Epoch 015/050 | Loss 0.0767 | Win/lose count 17.0/26.200000000000014 (-9.200000000000014)\n",
      "Epoch 016/050 | Loss 0.0468 | Win/lose count 19.5/29.400000000000002 (-9.900000000000002)\n",
      "Epoch 017/050 | Loss 0.0600 | Win/lose count 19.5/19.099999999999998 (0.40000000000000213)\n",
      "Epoch 018/050 | Loss 0.0498 | Win/lose count 18.5/23.599999999999998 (-5.099999999999998)\n",
      "Epoch 019/050 | Loss 0.0630 | Win/lose count 15.0/28.60000000000001 (-13.600000000000009)\n",
      "Epoch 020/050 | Loss 0.0436 | Win/lose count 24.5/20.1 (4.399999999999999)\n",
      "Epoch 021/050 | Loss 0.0944 | Win/lose count 21.5/24.899999999999988 (-3.399999999999988)\n",
      "Epoch 022/050 | Loss 0.0664 | Win/lose count 20.0/27.999999999999996 (-7.9999999999999964)\n",
      "Epoch 023/050 | Loss 0.0532 | Win/lose count 21.5/29.500000000000007 (-8.000000000000007)\n",
      "Epoch 024/050 | Loss 0.0608 | Win/lose count 18.0/43.0 (-25.0)\n",
      "Epoch 025/050 | Loss 0.0280 | Win/lose count 15.0/25.400000000000023 (-10.400000000000023)\n",
      "Epoch 026/050 | Loss 0.0578 | Win/lose count 21.5/26.70000000000001 (-5.20000000000001)\n",
      "Epoch 027/050 | Loss 0.1330 | Win/lose count 17.5/51.400000000000006 (-33.900000000000006)\n",
      "Epoch 028/050 | Loss 0.1082 | Win/lose count 22.0/41.3 (-19.299999999999997)\n",
      "Epoch 029/050 | Loss 0.1462 | Win/lose count 18.0/24.100000000000005 (-6.100000000000005)\n",
      "Epoch 030/050 | Loss 0.0683 | Win/lose count 21.0/23.600000000000012 (-2.600000000000012)\n",
      "Epoch 031/050 | Loss 0.0789 | Win/lose count 25.0/21.900000000000002 (3.099999999999998)\n",
      "Epoch 032/050 | Loss 0.0555 | Win/lose count 24.0/25.000000000000004 (-1.0000000000000036)\n",
      "Epoch 033/050 | Loss 0.0635 | Win/lose count 21.0/22.70000000000001 (-1.70000000000001)\n",
      "Epoch 034/050 | Loss 0.1245 | Win/lose count 21.0/26.10000000000002 (-5.100000000000019)\n",
      "Epoch 035/050 | Loss 0.0556 | Win/lose count 24.0/25.300000000000033 (-1.3000000000000327)\n",
      "Epoch 036/050 | Loss 0.0965 | Win/lose count 18.0/46.699999999999996 (-28.699999999999996)\n",
      "Epoch 037/050 | Loss 0.0593 | Win/lose count 18.0/23.400000000000006 (-5.400000000000006)\n",
      "Epoch 038/050 | Loss 0.0648 | Win/lose count 22.5/26.200000000000024 (-3.700000000000024)\n",
      "Epoch 039/050 | Loss 0.0432 | Win/lose count 25.5/16.199999999999985 (9.300000000000015)\n",
      "Epoch 040/050 | Loss 0.0370 | Win/lose count 26.5/19.7 (6.800000000000001)\n",
      "Epoch 041/050 | Loss 0.0484 | Win/lose count 30.0/16.59999999999998 (13.40000000000002)\n",
      "Epoch 042/050 | Loss 0.0612 | Win/lose count 29.0/18.900000000000013 (10.099999999999987)\n",
      "Epoch 043/050 | Loss 0.0320 | Win/lose count 27.0/21.500000000000007 (5.499999999999993)\n",
      "Epoch 044/050 | Loss 0.0350 | Win/lose count 23.5/18.999999999999996 (4.5000000000000036)\n",
      "Epoch 045/050 | Loss 0.0525 | Win/lose count 27.5/25.900000000000002 (1.5999999999999979)\n",
      "Epoch 046/050 | Loss 0.0452 | Win/lose count 28.5/21.40000000000001 (7.099999999999991)\n",
      "Epoch 047/050 | Loss 0.0365 | Win/lose count 26.5/13.199999999999983 (13.300000000000017)\n",
      "Epoch 048/050 | Loss 0.0498 | Win/lose count 27.0/19.49999999999999 (7.500000000000011)\n",
      "Epoch 049/050 | Loss 0.0570 | Win/lose count 19.0/24.700000000000017 (-5.700000000000017)\n"
     ]
    },
    {
     "data": {
      "text/html": [
       "<video alt=\"test\" controls>\n",
       "                <source src=\"data:video/mp4;base64,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\" type=\"video/mp4\" />\n",
       "             </video>"
      ],
      "text/plain": [
       "<IPython.core.display.HTML object>"
      ]
     },
     "execution_count": 45,
     "metadata": {},
     "output_type": "execute_result"
    }
   ],
   "source": [
    "# Training\n",
    "env = EnvironmentExploring(grid_size=size, max_time=T, temperature=0.3)\n",
    "agent = DQN_CNN(size, lr=.1, epsilon = 0.1, memory_size=2000, batch_size = 32, n_state=3)\n",
    "train_explore(agent, env, epochs_train, prefix='cnn_train_explore')\n",
    "HTML(display_videos('cnn_train_explore40.mp4'))"
   ]
  },
  {
   "cell_type": "code",
   "execution_count": 46,
   "metadata": {},
   "outputs": [
    {
     "name": "stdout",
     "output_type": "stream",
     "text": [
      "Win/lose count 23.5/13.0. Average score (10.5)\n",
      "Win/lose count 19.5/13.0. Average score (8.5)\n",
      "Win/lose count 24.0/11.0. Average score (10.0)\n",
      "Win/lose count 22.0/13.0. Average score (9.75)\n",
      "Win/lose count 26.0/10.0. Average score (11.0)\n",
      "Win/lose count 13.0/5.0. Average score (10.5)\n",
      "Win/lose count 15.5/7.0. Average score (10.214285714285714)\n",
      "Win/lose count 24.0/8.0. Average score (10.9375)\n",
      "Win/lose count 18.0/7.0. Average score (10.944444444444445)\n",
      "Win/lose count 20.5/15.0. Average score (10.4)\n",
      "Final score: 10.4\n"
     ]
    },
    {
     "data": {
      "text/html": [
       "<video alt=\"test\" controls>\n",
       "                <source src=\"data:video/mp4;base64,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\" type=\"video/mp4\" />\n",
       "             </video>"
      ],
      "text/plain": [
       "<IPython.core.display.HTML object>"
      ]
     },
     "execution_count": 46,
     "metadata": {},
     "output_type": "execute_result"
    }
   ],
   "source": [
    "# Evaluation\n",
    "test(agent,env,epochs_test,prefix='cnn_test_explore')\n",
    "HTML(display_videos('cnn_test_explore9.mp4'))"
   ]
  },
  {
   "cell_type": "markdown",
   "metadata": {},
   "source": [
    "***\n",
    "***\n",
    "__BONUS question__ Use the expert DQN from the previous question to generate some winning games. Train a model that mimicks its behavior. Compare the performances."
   ]
  },
  {
   "cell_type": "markdown",
   "metadata": {},
   "source": []
  },
  {
   "cell_type": "markdown",
   "metadata": {},
   "source": [
    "***"
   ]
  },
  {
   "cell_type": "code",
   "execution_count": null,
   "metadata": {},
   "outputs": [],
   "source": []
  }
 ],
 "metadata": {
  "kernelspec": {
   "display_name": "Python 3",
   "language": "python",
   "name": "python3"
  },
  "language_info": {
   "codemirror_mode": {
    "name": "ipython",
    "version": 3
   },
   "file_extension": ".py",
   "mimetype": "text/x-python",
   "name": "python",
   "nbconvert_exporter": "python",
   "pygments_lexer": "ipython3",
   "version": "3.7.1"
  }
 },
 "nbformat": 4,
 "nbformat_minor": 2
}
